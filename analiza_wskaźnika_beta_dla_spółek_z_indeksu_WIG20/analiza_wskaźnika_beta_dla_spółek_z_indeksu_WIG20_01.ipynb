{
 "cells": [
  {
   "cell_type": "markdown",
   "metadata": {},
   "source": [
    "## Analiza wskaźnika Beta dla spółek z indeksu WIG20"
   ]
  },
  {
   "cell_type": "code",
   "execution_count": 1,
   "metadata": {},
   "outputs": [],
   "source": [
    "#Implementacja bibliotek wykorzystywanych do analizy\n",
    "\n",
    "import pandas as pd\n",
    "import yfinance as yf\n",
    "import numpy as np\n",
    "import plotly.express as px"
   ]
  },
  {
   "cell_type": "markdown",
   "metadata": {},
   "source": [
    "### Pobieranie potrzebnych danych (notowania są pobierane do 26.03.2025 r.)"
   ]
  },
  {
   "cell_type": "code",
   "execution_count": 2,
   "metadata": {},
   "outputs": [
    {
     "name": "stdout",
     "output_type": "stream",
     "text": [
      "YF.download() has changed argument auto_adjust default to True\n"
     ]
    },
    {
     "name": "stderr",
     "output_type": "stream",
     "text": [
      "[*********************100%***********************]  20 of 20 completed\n"
     ]
    }
   ],
   "source": [
    "#-------------------------------------------------------------------------------------\n",
    "\n",
    "end = \"2025-04-05\"\n",
    "\n",
    "#Pobieranie danych z indeksu WIG20 oraz wyciągnięcie z nich tickerów\n",
    "wig_20_tickers = []\n",
    "df = pd.read_html(\"https://www.biznesradar.pl/gielda/indeks:WIG20\", thousands=None)[0]\n",
    "df_tickers = df[\"Profil\"].str.split(\"(\").str[0]\n",
    "df_tickers = df_tickers.str.split(\" \").str[0]\n",
    "\n",
    "#Dopisanie do każdego tickera końcówki \".WA\", aby poprawnie odczytać dane z yfinance\n",
    "for company in df_tickers:\n",
    "    ticker = company + \".WA\"\n",
    "    wig_20_tickers.append(ticker)\n",
    "\n",
    "#Pobieranie danych historycznych dla spółek z WIG20\n",
    "df_wig20 = yf.download(wig_20_tickers, end=end)[\"Close\"]\n",
    "\n",
    "#-------------------------------------------------------------------------------------\n",
    "\n",
    "#Pobieranie danych z pliku csv dla indeksu WIG i ustawienie dat jako indeksy\n",
    "df_wig = pd.read_csv(\"wig_d.csv\")\n",
    "df_wig[\"Data\"] = pd.to_datetime(df_wig[\"Data\"])\n",
    "df_wig.set_index(\"Data\", inplace=True)\n",
    "\n",
    "#-------------------------------------------------------------------------------------"
   ]
  },
  {
   "cell_type": "code",
   "execution_count": 3,
   "metadata": {},
   "outputs": [],
   "source": [
    "#Obliczenie stóp zwrotu dla analizowanych indeksów\n",
    "\n",
    "df_wig20_zwroty = df_wig20.pct_change().dropna()\n",
    "df_wig_zwroty = df_wig[\"Zamkniecie\"].pct_change().dropna()"
   ]
  },
  {
   "cell_type": "code",
   "execution_count": 4,
   "metadata": {},
   "outputs": [],
   "source": [
    "#Skrócenie danych do 60 notowań wstecz\n",
    "\n",
    "df_wig20_zwroty_60 = df_wig20_zwroty.tail(60)\n",
    "df_wig_zwroty_60 = df_wig_zwroty.tail(60)"
   ]
  },
  {
   "cell_type": "markdown",
   "metadata": {},
   "source": [
    "### Porównanie stóp zwrotu spółek WIG20 ze stopami zwrotu indeksu WIG"
   ]
  },
  {
   "cell_type": "markdown",
   "metadata": {},
   "source": [
    "#### Wzór na betę wykorzystywany do analizy\n",
    "$$\n",
    "\\beta = \\frac{\\text{Cov}(R_i, R_m)}{\\text{Var}(R_m)}\n",
    "$$\n",
    "\n",
    "Gdzie:  \n",
    "- R_i – zwroty instrumentu (np. spółki)  \n",
    "- R_m – zwroty rynku (benchmarku)  \n",
    "- text{Cov}(R_i, R_m) – kowariancja zwrotów instrumentu i rynku  \n",
    "- text{Var}(R_m)– wariancja zwrotów rynku"
   ]
  },
  {
   "cell_type": "code",
   "execution_count": 5,
   "metadata": {},
   "outputs": [],
   "source": [
    "#Obliczanie bety dla każdej spółki w oparciu o benchmark WIG\n",
    "\n",
    "beta_spolki_wig20_wig = []\n",
    "\n",
    "for company in wig_20_tickers:\n",
    "\n",
    "    kowariancja = df_wig20_zwroty_60[company].cov(df_wig_zwroty_60)\n",
    "    wariancja = df_wig_zwroty_60.var()\n",
    "    beta = kowariancja/wariancja\n",
    "    beta_spolki_wig20_wig.append(beta)"
   ]
  },
  {
   "cell_type": "code",
   "execution_count": 6,
   "metadata": {},
   "outputs": [],
   "source": [
    "#Wyliczanie korelacji oraz współczynnika determinacji dla spółek\n",
    " \n",
    "korelacja_wig = []\n",
    "R2_wig = []\n",
    "\n",
    "for company in wig_20_tickers:\n",
    "    korelacja_macierz = np.corrcoef(df_wig20_zwroty_60[company], df_wig_zwroty_60)\n",
    "    korelacja = korelacja_macierz[0,1] \n",
    "    R_sq = korelacja**2\n",
    "    korelacja_wig.append(korelacja)\n",
    "    R2_wig.append(R_sq)"
   ]
  },
  {
   "cell_type": "markdown",
   "metadata": {},
   "source": [
    "### Wyświetlenie bety, korelacji oraz wsp. determinacji dla spółek"
   ]
  },
  {
   "cell_type": "code",
   "execution_count": 7,
   "metadata": {},
   "outputs": [],
   "source": [
    "#Utworzenie tabeli z powstałych wyników\n",
    "\n",
    "tabela_beta = pd.DataFrame({\n",
    "    \"Spółka\": wig_20_tickers,\n",
    "    \"Beta\": beta_spolki_wig20_wig,\n",
    "    \"Korelacja (r)\": korelacja_wig,\n",
    "    \"Wsp. determinacji (R2)\": R2_wig,\n",
    "})"
   ]
  },
  {
   "cell_type": "code",
   "execution_count": 8,
   "metadata": {},
   "outputs": [
    {
     "data": {
      "text/html": [
       "<div>\n",
       "<style scoped>\n",
       "    .dataframe tbody tr th:only-of-type {\n",
       "        vertical-align: middle;\n",
       "    }\n",
       "\n",
       "    .dataframe tbody tr th {\n",
       "        vertical-align: top;\n",
       "    }\n",
       "\n",
       "    .dataframe thead th {\n",
       "        text-align: right;\n",
       "    }\n",
       "</style>\n",
       "<table border=\"1\" class=\"dataframe\">\n",
       "  <thead>\n",
       "    <tr style=\"text-align: right;\">\n",
       "      <th></th>\n",
       "      <th>Beta</th>\n",
       "      <th>Korelacja (r)</th>\n",
       "      <th>Wsp. determinacji (R2)</th>\n",
       "    </tr>\n",
       "    <tr>\n",
       "      <th>Spółka</th>\n",
       "      <th></th>\n",
       "      <th></th>\n",
       "      <th></th>\n",
       "    </tr>\n",
       "  </thead>\n",
       "  <tbody>\n",
       "    <tr>\n",
       "      <th>ALE.WA</th>\n",
       "      <td>0.981527</td>\n",
       "      <td>0.558435</td>\n",
       "      <td>0.311850</td>\n",
       "    </tr>\n",
       "    <tr>\n",
       "      <th>ALR.WA</th>\n",
       "      <td>1.646571</td>\n",
       "      <td>0.878586</td>\n",
       "      <td>0.771914</td>\n",
       "    </tr>\n",
       "    <tr>\n",
       "      <th>BDX.WA</th>\n",
       "      <td>0.905400</td>\n",
       "      <td>0.543244</td>\n",
       "      <td>0.295114</td>\n",
       "    </tr>\n",
       "    <tr>\n",
       "      <th>CCC.WA</th>\n",
       "      <td>0.719817</td>\n",
       "      <td>0.350219</td>\n",
       "      <td>0.122653</td>\n",
       "    </tr>\n",
       "    <tr>\n",
       "      <th>CDR.WA</th>\n",
       "      <td>0.390839</td>\n",
       "      <td>0.261117</td>\n",
       "      <td>0.068182</td>\n",
       "    </tr>\n",
       "    <tr>\n",
       "      <th>DNP.WA</th>\n",
       "      <td>0.561194</td>\n",
       "      <td>0.470231</td>\n",
       "      <td>0.221117</td>\n",
       "    </tr>\n",
       "    <tr>\n",
       "      <th>KGH.WA</th>\n",
       "      <td>1.384436</td>\n",
       "      <td>0.805402</td>\n",
       "      <td>0.648673</td>\n",
       "    </tr>\n",
       "    <tr>\n",
       "      <th>KRU.WA</th>\n",
       "      <td>0.787889</td>\n",
       "      <td>0.645911</td>\n",
       "      <td>0.417201</td>\n",
       "    </tr>\n",
       "    <tr>\n",
       "      <th>KTY.WA</th>\n",
       "      <td>0.863566</td>\n",
       "      <td>0.771216</td>\n",
       "      <td>0.594774</td>\n",
       "    </tr>\n",
       "    <tr>\n",
       "      <th>LPP.WA</th>\n",
       "      <td>1.187235</td>\n",
       "      <td>0.834059</td>\n",
       "      <td>0.695654</td>\n",
       "    </tr>\n",
       "    <tr>\n",
       "      <th>MBK.WA</th>\n",
       "      <td>1.619807</td>\n",
       "      <td>0.937656</td>\n",
       "      <td>0.879198</td>\n",
       "    </tr>\n",
       "    <tr>\n",
       "      <th>OPL.WA</th>\n",
       "      <td>0.528606</td>\n",
       "      <td>0.547068</td>\n",
       "      <td>0.299283</td>\n",
       "    </tr>\n",
       "    <tr>\n",
       "      <th>PCO.WA</th>\n",
       "      <td>0.959887</td>\n",
       "      <td>0.597600</td>\n",
       "      <td>0.357126</td>\n",
       "    </tr>\n",
       "    <tr>\n",
       "      <th>PEO.WA</th>\n",
       "      <td>1.623124</td>\n",
       "      <td>0.937979</td>\n",
       "      <td>0.879805</td>\n",
       "    </tr>\n",
       "    <tr>\n",
       "      <th>PGE.WA</th>\n",
       "      <td>0.858004</td>\n",
       "      <td>0.603327</td>\n",
       "      <td>0.364003</td>\n",
       "    </tr>\n",
       "    <tr>\n",
       "      <th>PKN.WA</th>\n",
       "      <td>0.737045</td>\n",
       "      <td>0.804268</td>\n",
       "      <td>0.646847</td>\n",
       "    </tr>\n",
       "    <tr>\n",
       "      <th>PKO.WA</th>\n",
       "      <td>1.601790</td>\n",
       "      <td>0.925666</td>\n",
       "      <td>0.856858</td>\n",
       "    </tr>\n",
       "    <tr>\n",
       "      <th>PZU.WA</th>\n",
       "      <td>1.063348</td>\n",
       "      <td>0.897211</td>\n",
       "      <td>0.804987</td>\n",
       "    </tr>\n",
       "    <tr>\n",
       "      <th>SPL.WA</th>\n",
       "      <td>1.478306</td>\n",
       "      <td>0.952616</td>\n",
       "      <td>0.907477</td>\n",
       "    </tr>\n",
       "    <tr>\n",
       "      <th>ZAB.WA</th>\n",
       "      <td>0.549535</td>\n",
       "      <td>0.389283</td>\n",
       "      <td>0.151541</td>\n",
       "    </tr>\n",
       "  </tbody>\n",
       "</table>\n",
       "</div>"
      ],
      "text/plain": [
       "            Beta  Korelacja (r)  Wsp. determinacji (R2)\n",
       "Spółka                                                 \n",
       "ALE.WA  0.981527       0.558435                0.311850\n",
       "ALR.WA  1.646571       0.878586                0.771914\n",
       "BDX.WA  0.905400       0.543244                0.295114\n",
       "CCC.WA  0.719817       0.350219                0.122653\n",
       "CDR.WA  0.390839       0.261117                0.068182\n",
       "DNP.WA  0.561194       0.470231                0.221117\n",
       "KGH.WA  1.384436       0.805402                0.648673\n",
       "KRU.WA  0.787889       0.645911                0.417201\n",
       "KTY.WA  0.863566       0.771216                0.594774\n",
       "LPP.WA  1.187235       0.834059                0.695654\n",
       "MBK.WA  1.619807       0.937656                0.879198\n",
       "OPL.WA  0.528606       0.547068                0.299283\n",
       "PCO.WA  0.959887       0.597600                0.357126\n",
       "PEO.WA  1.623124       0.937979                0.879805\n",
       "PGE.WA  0.858004       0.603327                0.364003\n",
       "PKN.WA  0.737045       0.804268                0.646847\n",
       "PKO.WA  1.601790       0.925666                0.856858\n",
       "PZU.WA  1.063348       0.897211                0.804987\n",
       "SPL.WA  1.478306       0.952616                0.907477\n",
       "ZAB.WA  0.549535       0.389283                0.151541"
      ]
     },
     "execution_count": 8,
     "metadata": {},
     "output_type": "execute_result"
    }
   ],
   "source": [
    "#Wyświetlenie tabeli z wynikami\n",
    "\n",
    "podsumowanie = tabela_beta.set_index(\"Spółka\")\n",
    "podsumowanie"
   ]
  },
  {
   "cell_type": "code",
   "execution_count": 9,
   "metadata": {},
   "outputs": [
    {
     "data": {
      "application/vnd.plotly.v1+json": {
       "config": {
        "plotlyServerURL": "https://plot.ly"
       },
       "data": [
        {
         "alignmentgroup": "True",
         "hovertemplate": "Kolor=Beta > 1<br>Spółka=%{x}<br>Beta=%{y}<extra></extra>",
         "legendgroup": "Beta > 1",
         "marker": {
          "color": "#0f8e45",
          "pattern": {
           "shape": ""
          }
         },
         "name": "Beta > 1",
         "offsetgroup": "Beta > 1",
         "orientation": "v",
         "showlegend": true,
         "textposition": "auto",
         "type": "bar",
         "x": [
          "ALR.WA",
          "PEO.WA",
          "MBK.WA",
          "PKO.WA",
          "SPL.WA",
          "KGH.WA",
          "LPP.WA",
          "PZU.WA"
         ],
         "xaxis": "x",
         "y": [
          1.6465709707016736,
          1.6231235305169105,
          1.6198073843900074,
          1.6017899811763092,
          1.4783057547598215,
          1.3844362263344014,
          1.1872353805167615,
          1.0633479433672148
         ],
         "yaxis": "y"
        },
        {
         "alignmentgroup": "True",
         "hovertemplate": "Kolor=Beta <= 1<br>Spółka=%{x}<br>Beta=%{y}<extra></extra>",
         "legendgroup": "Beta <= 1",
         "marker": {
          "color": "#00FF99",
          "pattern": {
           "shape": ""
          }
         },
         "name": "Beta <= 1",
         "offsetgroup": "Beta <= 1",
         "orientation": "v",
         "showlegend": true,
         "textposition": "auto",
         "type": "bar",
         "x": [
          "ALE.WA",
          "PCO.WA",
          "BDX.WA",
          "KTY.WA",
          "PGE.WA",
          "KRU.WA",
          "PKN.WA",
          "CCC.WA",
          "DNP.WA",
          "ZAB.WA",
          "OPL.WA",
          "CDR.WA"
         ],
         "xaxis": "x",
         "y": [
          0.9815266382419754,
          0.9598873829814553,
          0.9054003041755617,
          0.8635660463235344,
          0.858003698871236,
          0.7878886571390562,
          0.7370451266111143,
          0.7198174675682929,
          0.5611944192461185,
          0.54953501480045,
          0.5286057021062491,
          0.3908386372304035
         ],
         "yaxis": "y"
        }
       ],
       "layout": {
        "annotations": [
         {
          "showarrow": false,
          "text": "Beta=1",
          "x": 1,
          "xanchor": "right",
          "xref": "x domain",
          "y": 1,
          "yanchor": "bottom",
          "yref": "y"
         }
        ],
        "barmode": "relative",
        "height": 600,
        "legend": {
         "title": {
          "text": "Kolor"
         },
         "tracegroupgap": 0
        },
        "margin": {
         "t": 60
        },
        "shapes": [
         {
          "line": {
           "color": "black",
           "dash": "dash"
          },
          "type": "line",
          "x0": 0,
          "x1": 1,
          "xref": "x domain",
          "y0": 1,
          "y1": 1,
          "yref": "y"
         }
        ],
        "template": {
         "data": {
          "bar": [
           {
            "error_x": {
             "color": "#2a3f5f"
            },
            "error_y": {
             "color": "#2a3f5f"
            },
            "marker": {
             "line": {
              "color": "#E5ECF6",
              "width": 0.5
             },
             "pattern": {
              "fillmode": "overlay",
              "size": 10,
              "solidity": 0.2
             }
            },
            "type": "bar"
           }
          ],
          "barpolar": [
           {
            "marker": {
             "line": {
              "color": "#E5ECF6",
              "width": 0.5
             },
             "pattern": {
              "fillmode": "overlay",
              "size": 10,
              "solidity": 0.2
             }
            },
            "type": "barpolar"
           }
          ],
          "carpet": [
           {
            "aaxis": {
             "endlinecolor": "#2a3f5f",
             "gridcolor": "white",
             "linecolor": "white",
             "minorgridcolor": "white",
             "startlinecolor": "#2a3f5f"
            },
            "baxis": {
             "endlinecolor": "#2a3f5f",
             "gridcolor": "white",
             "linecolor": "white",
             "minorgridcolor": "white",
             "startlinecolor": "#2a3f5f"
            },
            "type": "carpet"
           }
          ],
          "choropleth": [
           {
            "colorbar": {
             "outlinewidth": 0,
             "ticks": ""
            },
            "type": "choropleth"
           }
          ],
          "contour": [
           {
            "colorbar": {
             "outlinewidth": 0,
             "ticks": ""
            },
            "colorscale": [
             [
              0,
              "#0d0887"
             ],
             [
              0.1111111111111111,
              "#46039f"
             ],
             [
              0.2222222222222222,
              "#7201a8"
             ],
             [
              0.3333333333333333,
              "#9c179e"
             ],
             [
              0.4444444444444444,
              "#bd3786"
             ],
             [
              0.5555555555555556,
              "#d8576b"
             ],
             [
              0.6666666666666666,
              "#ed7953"
             ],
             [
              0.7777777777777778,
              "#fb9f3a"
             ],
             [
              0.8888888888888888,
              "#fdca26"
             ],
             [
              1,
              "#f0f921"
             ]
            ],
            "type": "contour"
           }
          ],
          "contourcarpet": [
           {
            "colorbar": {
             "outlinewidth": 0,
             "ticks": ""
            },
            "type": "contourcarpet"
           }
          ],
          "heatmap": [
           {
            "colorbar": {
             "outlinewidth": 0,
             "ticks": ""
            },
            "colorscale": [
             [
              0,
              "#0d0887"
             ],
             [
              0.1111111111111111,
              "#46039f"
             ],
             [
              0.2222222222222222,
              "#7201a8"
             ],
             [
              0.3333333333333333,
              "#9c179e"
             ],
             [
              0.4444444444444444,
              "#bd3786"
             ],
             [
              0.5555555555555556,
              "#d8576b"
             ],
             [
              0.6666666666666666,
              "#ed7953"
             ],
             [
              0.7777777777777778,
              "#fb9f3a"
             ],
             [
              0.8888888888888888,
              "#fdca26"
             ],
             [
              1,
              "#f0f921"
             ]
            ],
            "type": "heatmap"
           }
          ],
          "heatmapgl": [
           {
            "colorbar": {
             "outlinewidth": 0,
             "ticks": ""
            },
            "colorscale": [
             [
              0,
              "#0d0887"
             ],
             [
              0.1111111111111111,
              "#46039f"
             ],
             [
              0.2222222222222222,
              "#7201a8"
             ],
             [
              0.3333333333333333,
              "#9c179e"
             ],
             [
              0.4444444444444444,
              "#bd3786"
             ],
             [
              0.5555555555555556,
              "#d8576b"
             ],
             [
              0.6666666666666666,
              "#ed7953"
             ],
             [
              0.7777777777777778,
              "#fb9f3a"
             ],
             [
              0.8888888888888888,
              "#fdca26"
             ],
             [
              1,
              "#f0f921"
             ]
            ],
            "type": "heatmapgl"
           }
          ],
          "histogram": [
           {
            "marker": {
             "pattern": {
              "fillmode": "overlay",
              "size": 10,
              "solidity": 0.2
             }
            },
            "type": "histogram"
           }
          ],
          "histogram2d": [
           {
            "colorbar": {
             "outlinewidth": 0,
             "ticks": ""
            },
            "colorscale": [
             [
              0,
              "#0d0887"
             ],
             [
              0.1111111111111111,
              "#46039f"
             ],
             [
              0.2222222222222222,
              "#7201a8"
             ],
             [
              0.3333333333333333,
              "#9c179e"
             ],
             [
              0.4444444444444444,
              "#bd3786"
             ],
             [
              0.5555555555555556,
              "#d8576b"
             ],
             [
              0.6666666666666666,
              "#ed7953"
             ],
             [
              0.7777777777777778,
              "#fb9f3a"
             ],
             [
              0.8888888888888888,
              "#fdca26"
             ],
             [
              1,
              "#f0f921"
             ]
            ],
            "type": "histogram2d"
           }
          ],
          "histogram2dcontour": [
           {
            "colorbar": {
             "outlinewidth": 0,
             "ticks": ""
            },
            "colorscale": [
             [
              0,
              "#0d0887"
             ],
             [
              0.1111111111111111,
              "#46039f"
             ],
             [
              0.2222222222222222,
              "#7201a8"
             ],
             [
              0.3333333333333333,
              "#9c179e"
             ],
             [
              0.4444444444444444,
              "#bd3786"
             ],
             [
              0.5555555555555556,
              "#d8576b"
             ],
             [
              0.6666666666666666,
              "#ed7953"
             ],
             [
              0.7777777777777778,
              "#fb9f3a"
             ],
             [
              0.8888888888888888,
              "#fdca26"
             ],
             [
              1,
              "#f0f921"
             ]
            ],
            "type": "histogram2dcontour"
           }
          ],
          "mesh3d": [
           {
            "colorbar": {
             "outlinewidth": 0,
             "ticks": ""
            },
            "type": "mesh3d"
           }
          ],
          "parcoords": [
           {
            "line": {
             "colorbar": {
              "outlinewidth": 0,
              "ticks": ""
             }
            },
            "type": "parcoords"
           }
          ],
          "pie": [
           {
            "automargin": true,
            "type": "pie"
           }
          ],
          "scatter": [
           {
            "fillpattern": {
             "fillmode": "overlay",
             "size": 10,
             "solidity": 0.2
            },
            "type": "scatter"
           }
          ],
          "scatter3d": [
           {
            "line": {
             "colorbar": {
              "outlinewidth": 0,
              "ticks": ""
             }
            },
            "marker": {
             "colorbar": {
              "outlinewidth": 0,
              "ticks": ""
             }
            },
            "type": "scatter3d"
           }
          ],
          "scattercarpet": [
           {
            "marker": {
             "colorbar": {
              "outlinewidth": 0,
              "ticks": ""
             }
            },
            "type": "scattercarpet"
           }
          ],
          "scattergeo": [
           {
            "marker": {
             "colorbar": {
              "outlinewidth": 0,
              "ticks": ""
             }
            },
            "type": "scattergeo"
           }
          ],
          "scattergl": [
           {
            "marker": {
             "colorbar": {
              "outlinewidth": 0,
              "ticks": ""
             }
            },
            "type": "scattergl"
           }
          ],
          "scattermapbox": [
           {
            "marker": {
             "colorbar": {
              "outlinewidth": 0,
              "ticks": ""
             }
            },
            "type": "scattermapbox"
           }
          ],
          "scatterpolar": [
           {
            "marker": {
             "colorbar": {
              "outlinewidth": 0,
              "ticks": ""
             }
            },
            "type": "scatterpolar"
           }
          ],
          "scatterpolargl": [
           {
            "marker": {
             "colorbar": {
              "outlinewidth": 0,
              "ticks": ""
             }
            },
            "type": "scatterpolargl"
           }
          ],
          "scatterternary": [
           {
            "marker": {
             "colorbar": {
              "outlinewidth": 0,
              "ticks": ""
             }
            },
            "type": "scatterternary"
           }
          ],
          "surface": [
           {
            "colorbar": {
             "outlinewidth": 0,
             "ticks": ""
            },
            "colorscale": [
             [
              0,
              "#0d0887"
             ],
             [
              0.1111111111111111,
              "#46039f"
             ],
             [
              0.2222222222222222,
              "#7201a8"
             ],
             [
              0.3333333333333333,
              "#9c179e"
             ],
             [
              0.4444444444444444,
              "#bd3786"
             ],
             [
              0.5555555555555556,
              "#d8576b"
             ],
             [
              0.6666666666666666,
              "#ed7953"
             ],
             [
              0.7777777777777778,
              "#fb9f3a"
             ],
             [
              0.8888888888888888,
              "#fdca26"
             ],
             [
              1,
              "#f0f921"
             ]
            ],
            "type": "surface"
           }
          ],
          "table": [
           {
            "cells": {
             "fill": {
              "color": "#EBF0F8"
             },
             "line": {
              "color": "white"
             }
            },
            "header": {
             "fill": {
              "color": "#C8D4E3"
             },
             "line": {
              "color": "white"
             }
            },
            "type": "table"
           }
          ]
         },
         "layout": {
          "annotationdefaults": {
           "arrowcolor": "#2a3f5f",
           "arrowhead": 0,
           "arrowwidth": 1
          },
          "autotypenumbers": "strict",
          "coloraxis": {
           "colorbar": {
            "outlinewidth": 0,
            "ticks": ""
           }
          },
          "colorscale": {
           "diverging": [
            [
             0,
             "#8e0152"
            ],
            [
             0.1,
             "#c51b7d"
            ],
            [
             0.2,
             "#de77ae"
            ],
            [
             0.3,
             "#f1b6da"
            ],
            [
             0.4,
             "#fde0ef"
            ],
            [
             0.5,
             "#f7f7f7"
            ],
            [
             0.6,
             "#e6f5d0"
            ],
            [
             0.7,
             "#b8e186"
            ],
            [
             0.8,
             "#7fbc41"
            ],
            [
             0.9,
             "#4d9221"
            ],
            [
             1,
             "#276419"
            ]
           ],
           "sequential": [
            [
             0,
             "#0d0887"
            ],
            [
             0.1111111111111111,
             "#46039f"
            ],
            [
             0.2222222222222222,
             "#7201a8"
            ],
            [
             0.3333333333333333,
             "#9c179e"
            ],
            [
             0.4444444444444444,
             "#bd3786"
            ],
            [
             0.5555555555555556,
             "#d8576b"
            ],
            [
             0.6666666666666666,
             "#ed7953"
            ],
            [
             0.7777777777777778,
             "#fb9f3a"
            ],
            [
             0.8888888888888888,
             "#fdca26"
            ],
            [
             1,
             "#f0f921"
            ]
           ],
           "sequentialminus": [
            [
             0,
             "#0d0887"
            ],
            [
             0.1111111111111111,
             "#46039f"
            ],
            [
             0.2222222222222222,
             "#7201a8"
            ],
            [
             0.3333333333333333,
             "#9c179e"
            ],
            [
             0.4444444444444444,
             "#bd3786"
            ],
            [
             0.5555555555555556,
             "#d8576b"
            ],
            [
             0.6666666666666666,
             "#ed7953"
            ],
            [
             0.7777777777777778,
             "#fb9f3a"
            ],
            [
             0.8888888888888888,
             "#fdca26"
            ],
            [
             1,
             "#f0f921"
            ]
           ]
          },
          "colorway": [
           "#636efa",
           "#EF553B",
           "#00cc96",
           "#ab63fa",
           "#FFA15A",
           "#19d3f3",
           "#FF6692",
           "#B6E880",
           "#FF97FF",
           "#FECB52"
          ],
          "font": {
           "color": "#2a3f5f"
          },
          "geo": {
           "bgcolor": "white",
           "lakecolor": "white",
           "landcolor": "#E5ECF6",
           "showlakes": true,
           "showland": true,
           "subunitcolor": "white"
          },
          "hoverlabel": {
           "align": "left"
          },
          "hovermode": "closest",
          "mapbox": {
           "style": "light"
          },
          "paper_bgcolor": "white",
          "plot_bgcolor": "#E5ECF6",
          "polar": {
           "angularaxis": {
            "gridcolor": "white",
            "linecolor": "white",
            "ticks": ""
           },
           "bgcolor": "#E5ECF6",
           "radialaxis": {
            "gridcolor": "white",
            "linecolor": "white",
            "ticks": ""
           }
          },
          "scene": {
           "xaxis": {
            "backgroundcolor": "#E5ECF6",
            "gridcolor": "white",
            "gridwidth": 2,
            "linecolor": "white",
            "showbackground": true,
            "ticks": "",
            "zerolinecolor": "white"
           },
           "yaxis": {
            "backgroundcolor": "#E5ECF6",
            "gridcolor": "white",
            "gridwidth": 2,
            "linecolor": "white",
            "showbackground": true,
            "ticks": "",
            "zerolinecolor": "white"
           },
           "zaxis": {
            "backgroundcolor": "#E5ECF6",
            "gridcolor": "white",
            "gridwidth": 2,
            "linecolor": "white",
            "showbackground": true,
            "ticks": "",
            "zerolinecolor": "white"
           }
          },
          "shapedefaults": {
           "line": {
            "color": "#2a3f5f"
           }
          },
          "ternary": {
           "aaxis": {
            "gridcolor": "white",
            "linecolor": "white",
            "ticks": ""
           },
           "baxis": {
            "gridcolor": "white",
            "linecolor": "white",
            "ticks": ""
           },
           "bgcolor": "#E5ECF6",
           "caxis": {
            "gridcolor": "white",
            "linecolor": "white",
            "ticks": ""
           }
          },
          "title": {
           "x": 0.05
          },
          "xaxis": {
           "automargin": true,
           "gridcolor": "white",
           "linecolor": "white",
           "ticks": "",
           "title": {
            "standoff": 15
           },
           "zerolinecolor": "white",
           "zerolinewidth": 2
          },
          "yaxis": {
           "automargin": true,
           "gridcolor": "white",
           "linecolor": "white",
           "ticks": "",
           "title": {
            "standoff": 15
           },
           "zerolinecolor": "white",
           "zerolinewidth": 2
          }
         }
        },
        "title": {
         "font": {
          "size": 25
         },
         "text": "Wartość współczynnika Beta dla spółek z indeksu WIG20"
        },
        "xaxis": {
         "anchor": "y",
         "domain": [
          0,
          1
         ],
         "title": {
          "text": "Spółka"
         }
        },
        "yaxis": {
         "anchor": "x",
         "domain": [
          0,
          1
         ],
         "title": {
          "text": "Wartość Beta"
         }
        }
       }
      }
     },
     "metadata": {},
     "output_type": "display_data"
    }
   ],
   "source": [
    "#Wyświetlenie wartości beta w stosunku do WIG na wykresie słupkowym (skrypt częściowo wykonany przy pomocy AI)\n",
    "\n",
    "tabela_beta[\"Kolor\"] = tabela_beta[\"Beta\"].apply(lambda x: \"Beta > 1\" if x > 1 else \"Beta <= 1\")\n",
    "\n",
    "fig = px.bar(tabela_beta.sort_values(by=\"Beta\", ascending=False), x=\"Spółka\", y=\"Beta\", color=\"Kolor\", color_discrete_map={\n",
    "                 \"Beta > 1\": \"#0f8e45\",\n",
    "                 \"Beta <= 1\": \"#00FF99\"\n",
    "             })\n",
    "fig.add_hline(y=1, line_dash=\"dash\", line_color=\"black\", annotation_text=\"Beta=1\")\n",
    "fig.update_layout(\n",
    "    title=\"Wartość współczynnika Beta dla spółek z indeksu WIG20\",\n",
    "    title_font_size=25,\n",
    "    xaxis_title=\"Spółka\",\n",
    "    yaxis_title=\"Wartość Beta\",\n",
    "    height=600\n",
    ")\n",
    "fig.show()"
   ]
  },
  {
   "cell_type": "markdown",
   "metadata": {},
   "source": [
    "### Spółki z indeksu WIG20 (stan na 4 kwietnia 2025)\n",
    "\n",
    "| Ticker | Spółka                  |\n",
    "|--------|-------------------------|\n",
    "| ALR    | Alior Bank              |\n",
    "| ALE    | Allegro                 |\n",
    "| BDX    | Budimex                 |\n",
    "| CCC    | CCC                     |\n",
    "| CDR    | CD Projekt              |\n",
    "| DNP    | Dino Polska             |\n",
    "| KGH    | KGHM                    |\n",
    "| KRU    | Kruk                    |\n",
    "| LPP    | LPP                     |\n",
    "| MBK    | mBank                   |\n",
    "| OPL    | Orange Polska           |\n",
    "| PEO    | Pekao                   |\n",
    "| PCO    | Pepco                   |\n",
    "| PGE    | PGE                     |\n",
    "| PKN    | PKN Orlen               |\n",
    "| PKO    | PKO BP                  |\n",
    "| PZU    | PZU                     |\n",
    "| SPL    | Santander Bank Polska   |\n",
    "| KTY    | Grupa Kęty              |\n",
    "| ZAB    | Żabka                   |\n"
   ]
  }
 ],
 "metadata": {
  "kernelspec": {
   "display_name": "Python 3",
   "language": "python",
   "name": "python3"
  },
  "language_info": {
   "codemirror_mode": {
    "name": "ipython",
    "version": 3
   },
   "file_extension": ".py",
   "mimetype": "text/x-python",
   "name": "python",
   "nbconvert_exporter": "python",
   "pygments_lexer": "ipython3",
   "version": "3.10.0"
  }
 },
 "nbformat": 4,
 "nbformat_minor": 2
}
