{
 "cells": [
  {
   "cell_type": "code",
   "execution_count": 1,
   "id": "dd801011-5c8c-4098-b197-c6d358aab670",
   "metadata": {},
   "outputs": [],
   "source": [
    "import pandas as pd\n",
    "from fredapi import Fred\n",
    "import yfinance as yf\n",
    "import re\n",
    "from eurostat import get_data_df\n",
    "import requests"
   ]
  },
  {
   "cell_type": "code",
   "execution_count": 3,
   "id": "23291585-f582-41f6-aab3-285741ed7403",
   "metadata": {},
   "outputs": [
    {
     "name": "stdout",
     "output_type": "stream",
     "text": [
      "YF.download() has changed argument auto_adjust default to True\n"
     ]
    },
    {
     "name": "stderr",
     "output_type": "stream",
     "text": [
      "[*********************100%***********************]  1 of 1 completed\n",
      "[*********************100%***********************]  1 of 1 completed\n",
      "[*********************100%***********************]  1 of 1 completed\n",
      "[*********************100%***********************]  1 of 1 completed\n",
      "[*********************100%***********************]  1 of 1 completed\n",
      "[*********************100%***********************]  1 of 1 completed\n",
      "[*********************100%***********************]  1 of 1 completed\n",
      "[*********************100%***********************]  1 of 1 completed\n",
      "[*********************100%***********************]  1 of 1 completed\n",
      "[*********************100%***********************]  1 of 1 completed\n",
      "[*********************100%***********************]  1 of 1 completed\n",
      "[*********************100%***********************]  1 of 1 completed\n",
      "[*********************100%***********************]  1 of 1 completed\n",
      "[*********************100%***********************]  1 of 1 completed\n",
      "[*********************100%***********************]  1 of 1 completed\n",
      "[*********************100%***********************]  1 of 1 completed\n",
      "[*********************100%***********************]  1 of 1 completed\n",
      "[*********************100%***********************]  1 of 1 completed\n",
      "[*********************100%***********************]  1 of 1 completed\n",
      "[*********************100%***********************]  1 of 1 completed\n",
      "[*********************100%***********************]  1 of 1 completed\n",
      "[*********************100%***********************]  1 of 1 completed\n",
      "[*********************100%***********************]  1 of 1 completed\n",
      "[*********************100%***********************]  1 of 1 completed\n"
     ]
    }
   ],
   "source": [
    "data_dict = {}\n",
    "\n",
    "\n",
    "data_dict['Orange Polska S.A.'] = yf.download('OPL.WA', period='max')['Close']\n",
    "data_dict['TAURON Polska Energia S.A.'] = yf.download('TPE.WA', period='max')['Close']\n",
    "data_dict['Asseco Poland S.A.'] = yf.download('ACP.WA', period='max')['Close']\n",
    "data_dict['XTB S.A.'] = yf.download('XTB.WA', period='max')['Close']\n",
    "data_dict['Cyfrowy Polsat S.A.'] = yf.download('CPS.WA', period='max')['Close']\n",
    "data_dict['Dino Polska S.A.'] = yf.download('DNOPY', period='max')['Close']\n",
    "data_dict['KGHM Polska Miedz S.A.'] = yf.download('KGHPF', period='max')['Close']\n",
    "data_dict['Polenergia S.A.'] = yf.download('PEP.WA', period='max')['Close']\n",
    "data_dict['Develia S.A.'] = yf.download('DVL.WA', period='max')['Close']\n",
    "data_dict['Vercom S.A.'] = yf.download('VRC.WA', period='max')['Close']\n",
    "data_dict['Auto Partner SA'] = yf.download('APR.WA', period='max')['Close']\n",
    "data_dict['Globe Trade Centre S.A.'] = yf.download('GTC.WA', period='max')['Close']\n",
    "data_dict['Rainbow Tours S.A.'] = yf.download('RBW.WA', period='max')['Close']\n",
    "data_dict['Sygnity S.A.'] = yf.download('SGN.WA', period='max')['Close']\n",
    "data_dict['Murapol S.A.'] = yf.download('MUR.WA', period='max')['Close']\n",
    "data_dict['Tarczynski S.A.'] = yf.download('TAR.WA', period='max')['Close']\n",
    "data_dict['Stalprodukt S.A.'] = yf.download('STP.WA', period='max')['Close']\n",
    "data_dict['Celon Pharma S.A.'] = yf.download('CLN.WA', period='max')['Close']\n",
    "data_dict['Wawel S.A.'] = yf.download('WWL.WA', period='max')['Close']\n",
    "data_dict['Pkp Cargo S.A.'] = yf.download('PKP.WA', period='max')['Close']\n",
    "data_dict['Selvita S.A.'] = yf.download('SLV.WA', period='max')['Close']\n",
    "data_dict['Bioceltix S.A.'] = yf.download('BCX.WA', period='max')['Close']\n",
    "data_dict['Wittchen S.A.'] = yf.download('WTN.WA', period='max')['Close']\n",
    "data_dict['Action S.A.'] = yf.download('ACT.WA', period='max')['Close']\n",
    "\n",
    "if data_dict:\n",
    "    df = pd.concat(data_dict.values(), axis=1, keys=data_dict.keys())\n",
    "    df_fill = df\n",
    "else:\n",
    "    None"
   ]
  },
  {
   "cell_type": "code",
   "execution_count": 5,
   "id": "26a48213-2a2b-4a52-98be-5a29c9f9e4c4",
   "metadata": {},
   "outputs": [],
   "source": [
    "df_fill = df_fill.loc[\"2024-05-01\":\"2025-04-30\"]\n",
    "monthly_prices = df_fill.resample(\"ME\").last()\n",
    "returns = monthly_prices.pct_change().dropna()\n",
    "std_devs = returns.std()\n",
    "std_devs.index = [name for (name, ticker) in std_devs.index]\n"
   ]
  },
  {
   "cell_type": "code",
   "execution_count": 7,
   "id": "a09a5a8b-51c5-4157-9ed2-f173083661cc",
   "metadata": {},
   "outputs": [],
   "source": [
    "pe_ratios = {}\n",
    "for ticker, name in zip(\n",
    "    ['OPL.WA', 'TPE.WA', 'ACP.WA', 'XTB.WA', 'CPS.WA', 'DNOPY', 'KGHPF', 'PEP.WA', 'DVL.WA',\n",
    "     'VRC.WA', 'APR.WA', 'GTC.WA', 'RBW.WA', 'SGN.WA', 'MUR.WA', 'TAR.WA', 'STP.WA', 'CLN.WA',\n",
    "     'WWL.WA', 'PKP.WA', 'SLV.WA', 'BCX.WA', 'WTN.WA', 'ACT.WA'],\n",
    "    data_dict.keys()\n",
    "):\n",
    "    try:\n",
    "        info = yf.Ticker(ticker).info\n",
    "        pe_ratios[name] = info.get(\"trailingPE\", None)\n",
    "    except:\n",
    "        pe_ratios[name] = None\n"
   ]
  },
  {
   "cell_type": "code",
   "execution_count": 10,
   "id": "26240cfb-8524-499e-b3cc-efba9db46bf0",
   "metadata": {},
   "outputs": [
    {
     "name": "stdout",
     "output_type": "stream",
     "text": [
      "{'Orange Polska S.A.': 14.111764, 'TAURON Polska Energia S.A.': 21.484848, 'Asseco Poland S.A.': 22.214941, 'XTB S.A.': 11.744857, 'Cyfrowy Polsat S.A.': 12.46454, 'Dino Polska S.A.': 35.60396, 'KGHM Polska Miedz S.A.': 8.505292, 'Polenergia S.A.': 15.143487, 'Develia S.A.': 10.268292, 'Vercom S.A.': 32.295517, 'Auto Partner SA': 13.815789, 'Globe Trade Centre S.A.': 11.911765, 'Rainbow Tours S.A.': 9.110379, 'Sygnity S.A.': 83.24324, 'Murapol S.A.': 10.987342, 'Tarczynski S.A.': 7.7505827, 'Stalprodukt S.A.': 47.134937, 'Celon Pharma S.A.': 72.72727, 'Wawel S.A.': 11.560487, 'Pkp Cargo S.A.': None, 'Selvita S.A.': None, 'Bioceltix S.A.': None, 'Wittchen S.A.': 8.433735, 'Action S.A.': 9.449541}\n"
     ]
    }
   ],
   "source": [
    "print(pe_ratios)"
   ]
  },
  {
   "cell_type": "code",
   "execution_count": 9,
   "id": "ba49beca-389b-4827-a773-a8abc4d58ebd",
   "metadata": {},
   "outputs": [],
   "source": [
    "final_df = pd.DataFrame({\n",
    "    'P/E': pd.Series(pe_ratios),\n",
    "    'Volatility': std_devs\n",
    "}).dropna()"
   ]
  },
  {
   "cell_type": "code",
   "execution_count": 11,
   "id": "d3302909-465e-445d-972c-1fd9141ef493",
   "metadata": {},
   "outputs": [
    {
     "data": {
      "text/html": [
       "<div>\n",
       "<style scoped>\n",
       "    .dataframe tbody tr th:only-of-type {\n",
       "        vertical-align: middle;\n",
       "    }\n",
       "\n",
       "    .dataframe tbody tr th {\n",
       "        vertical-align: top;\n",
       "    }\n",
       "\n",
       "    .dataframe thead th {\n",
       "        text-align: right;\n",
       "    }\n",
       "</style>\n",
       "<table border=\"1\" class=\"dataframe\">\n",
       "  <thead>\n",
       "    <tr style=\"text-align: right;\">\n",
       "      <th></th>\n",
       "      <th>C/Z</th>\n",
       "      <th>Zmiennosc</th>\n",
       "    </tr>\n",
       "  </thead>\n",
       "  <tbody>\n",
       "    <tr>\n",
       "      <th>Orange Polska S.A.</th>\n",
       "      <td>14.105883</td>\n",
       "      <td>0.066286</td>\n",
       "    </tr>\n",
       "    <tr>\n",
       "      <th>TAURON Polska Energia S.A.</th>\n",
       "      <td>21.557575</td>\n",
       "      <td>0.083836</td>\n",
       "    </tr>\n",
       "    <tr>\n",
       "      <th>Asseco Poland S.A.</th>\n",
       "      <td>22.254260</td>\n",
       "      <td>0.096144</td>\n",
       "    </tr>\n",
       "    <tr>\n",
       "      <th>XTB S.A.</th>\n",
       "      <td>11.739369</td>\n",
       "      <td>0.095426</td>\n",
       "    </tr>\n",
       "    <tr>\n",
       "      <th>Cyfrowy Polsat S.A.</th>\n",
       "      <td>12.500000</td>\n",
       "      <td>0.122545</td>\n",
       "    </tr>\n",
       "    <tr>\n",
       "      <th>Dino Polska S.A.</th>\n",
       "      <td>35.603960</td>\n",
       "      <td>0.120249</td>\n",
       "    </tr>\n",
       "    <tr>\n",
       "      <th>KGHM Polska Miedz S.A.</th>\n",
       "      <td>8.505292</td>\n",
       "      <td>0.090266</td>\n",
       "    </tr>\n",
       "    <tr>\n",
       "      <th>Polenergia S.A.</th>\n",
       "      <td>15.099338</td>\n",
       "      <td>0.049916</td>\n",
       "    </tr>\n",
       "    <tr>\n",
       "      <th>Develia S.A.</th>\n",
       "      <td>10.219512</td>\n",
       "      <td>0.081826</td>\n",
       "    </tr>\n",
       "    <tr>\n",
       "      <th>Vercom S.A.</th>\n",
       "      <td>32.295517</td>\n",
       "      <td>0.068536</td>\n",
       "    </tr>\n",
       "    <tr>\n",
       "      <th>Auto Partner SA</th>\n",
       "      <td>13.815789</td>\n",
       "      <td>0.100036</td>\n",
       "    </tr>\n",
       "    <tr>\n",
       "      <th>Globe Trade Centre S.A.</th>\n",
       "      <td>11.911765</td>\n",
       "      <td>0.053029</td>\n",
       "    </tr>\n",
       "    <tr>\n",
       "      <th>Rainbow Tours S.A.</th>\n",
       "      <td>9.104888</td>\n",
       "      <td>0.071505</td>\n",
       "    </tr>\n",
       "    <tr>\n",
       "      <th>Sygnity S.A.</th>\n",
       "      <td>83.243240</td>\n",
       "      <td>0.067225</td>\n",
       "    </tr>\n",
       "    <tr>\n",
       "      <th>Murapol S.A.</th>\n",
       "      <td>10.987342</td>\n",
       "      <td>0.067777</td>\n",
       "    </tr>\n",
       "    <tr>\n",
       "      <th>Tarczynski S.A.</th>\n",
       "      <td>7.750583</td>\n",
       "      <td>0.154973</td>\n",
       "    </tr>\n",
       "    <tr>\n",
       "      <th>Stalprodukt S.A.</th>\n",
       "      <td>47.134937</td>\n",
       "      <td>0.063844</td>\n",
       "    </tr>\n",
       "    <tr>\n",
       "      <th>Celon Pharma S.A.</th>\n",
       "      <td>72.727270</td>\n",
       "      <td>0.075156</td>\n",
       "    </tr>\n",
       "    <tr>\n",
       "      <th>Wawel S.A.</th>\n",
       "      <td>11.560487</td>\n",
       "      <td>0.041741</td>\n",
       "    </tr>\n",
       "    <tr>\n",
       "      <th>Wittchen S.A.</th>\n",
       "      <td>8.353414</td>\n",
       "      <td>0.103299</td>\n",
       "    </tr>\n",
       "    <tr>\n",
       "      <th>Action S.A.</th>\n",
       "      <td>9.449541</td>\n",
       "      <td>0.068914</td>\n",
       "    </tr>\n",
       "  </tbody>\n",
       "</table>\n",
       "</div>"
      ],
      "text/plain": [
       "                                  C/Z  Zmiennosc\n",
       "Orange Polska S.A.          14.105883   0.066286\n",
       "TAURON Polska Energia S.A.  21.557575   0.083836\n",
       "Asseco Poland S.A.          22.254260   0.096144\n",
       "XTB S.A.                    11.739369   0.095426\n",
       "Cyfrowy Polsat S.A.         12.500000   0.122545\n",
       "Dino Polska S.A.            35.603960   0.120249\n",
       "KGHM Polska Miedz S.A.       8.505292   0.090266\n",
       "Polenergia S.A.             15.099338   0.049916\n",
       "Develia S.A.                10.219512   0.081826\n",
       "Vercom S.A.                 32.295517   0.068536\n",
       "Auto Partner SA             13.815789   0.100036\n",
       "Globe Trade Centre S.A.     11.911765   0.053029\n",
       "Rainbow Tours S.A.           9.104888   0.071505\n",
       "Sygnity S.A.                83.243240   0.067225\n",
       "Murapol S.A.                10.987342   0.067777\n",
       "Tarczynski S.A.              7.750583   0.154973\n",
       "Stalprodukt S.A.            47.134937   0.063844\n",
       "Celon Pharma S.A.           72.727270   0.075156\n",
       "Wawel S.A.                  11.560487   0.041741\n",
       "Wittchen S.A.                8.353414   0.103299\n",
       "Action S.A.                  9.449541   0.068914"
      ]
     },
     "execution_count": 11,
     "metadata": {},
     "output_type": "execute_result"
    }
   ],
   "source": [
    "final_df.columns.values[0] = 'C/Z'\n",
    "final_df.columns.values[1] = 'Zmiennosc'\n",
    "final_df"
   ]
  },
  {
   "cell_type": "code",
   "execution_count": 13,
   "id": "770c723e-c870-4c0a-9d8d-603a0a81d3dd",
   "metadata": {
    "scrolled": true
   },
   "outputs": [
    {
     "data": {
      "text/html": [
       "<div>\n",
       "<style scoped>\n",
       "    .dataframe tbody tr th:only-of-type {\n",
       "        vertical-align: middle;\n",
       "    }\n",
       "\n",
       "    .dataframe tbody tr th {\n",
       "        vertical-align: top;\n",
       "    }\n",
       "\n",
       "    .dataframe thead th {\n",
       "        text-align: right;\n",
       "    }\n",
       "</style>\n",
       "<table border=\"1\" class=\"dataframe\">\n",
       "  <thead>\n",
       "    <tr style=\"text-align: right;\">\n",
       "      <th></th>\n",
       "      <th>C/Z</th>\n",
       "      <th>Zmiennosc</th>\n",
       "    </tr>\n",
       "  </thead>\n",
       "  <tbody>\n",
       "    <tr>\n",
       "      <th>Sygnity S.A.</th>\n",
       "      <td>83.243240</td>\n",
       "      <td>0.067225</td>\n",
       "    </tr>\n",
       "    <tr>\n",
       "      <th>Stalprodukt S.A.</th>\n",
       "      <td>47.134937</td>\n",
       "      <td>0.063844</td>\n",
       "    </tr>\n",
       "    <tr>\n",
       "      <th>Tarczynski S.A.</th>\n",
       "      <td>7.750583</td>\n",
       "      <td>0.154973</td>\n",
       "    </tr>\n",
       "    <tr>\n",
       "      <th>KGHM Polska Miedz S.A.</th>\n",
       "      <td>8.505292</td>\n",
       "      <td>0.090266</td>\n",
       "    </tr>\n",
       "    <tr>\n",
       "      <th>Rainbow Tours S.A.</th>\n",
       "      <td>9.104888</td>\n",
       "      <td>0.071505</td>\n",
       "    </tr>\n",
       "  </tbody>\n",
       "</table>\n",
       "</div>"
      ],
      "text/plain": [
       "                              C/Z  Zmiennosc\n",
       "Sygnity S.A.            83.243240   0.067225\n",
       "Stalprodukt S.A.        47.134937   0.063844\n",
       "Tarczynski S.A.          7.750583   0.154973\n",
       "KGHM Polska Miedz S.A.   8.505292   0.090266\n",
       "Rainbow Tours S.A.       9.104888   0.071505"
      ]
     },
     "execution_count": 13,
     "metadata": {},
     "output_type": "execute_result"
    }
   ],
   "source": [
    "final_df.iloc[[13,16,15,6,12]]"
   ]
  },
  {
   "cell_type": "code",
   "execution_count": 17,
   "id": "4601bf19-a6c1-4966-9e06-d37ef581c06c",
   "metadata": {},
   "outputs": [
    {
     "data": {
      "image/png": "[encoded data removed]",
      "text/plain": [
       "<Figure size 1000x600 with 1 Axes>"
      ]
     },
     "metadata": {},
     "output_type": "display_data"
    }
   ],
   "source": [
    "import matplotlib.pyplot as plt\n",
    "import seaborn as sns\n",
    "\n",
    "plt.figure(figsize=(10, 6))\n",
    "sns.regplot(data=final_df, x='C/Z', y='Zmiennosc', ci=None)\n",
    "plt.title('Relacja między wskaźnikiem C/Z a zmiennością akcji')\n",
    "plt.xlabel('C/Z (Cena do Zysku)')\n",
    "plt.ylabel('Odchylenie standardowe miesięcznych zwrotów')\n",
    "plt.grid(True)\n",
    "plt.tight_layout()\n",
    "plt.show()"
   ]
  },
  {
   "cell_type": "code",
   "execution_count": 19,
   "id": "436feea6-fcbb-44c5-ae9b-6172e5829777",
   "metadata": {},
   "outputs": [
    {
     "name": "stdout",
     "output_type": "stream",
     "text": [
      "Korelacja C/Z vs Zmienność: -0.17\n"
     ]
    }
   ],
   "source": [
    "correlation = final_df['C/Z'].corr(final_df['Zmiennosc'])\n",
    "print(f\"Korelacja C/Z vs Zmienność: {correlation:.2f}\")\n"
   ]
  }
 ],
 "metadata": {
  "kernelspec": {
   "display_name": "Python 3 (ipykernel)",
   "language": "python",
   "name": "python3"
  },
  "language_info": {
   "codemirror_mode": {
    "name": "ipython",
    "version": 3
   },
   "file_extension": ".py",
   "mimetype": "text/x-python",
   "name": "python",
   "nbconvert_exporter": "python",
   "pygments_lexer": "ipython3",
   "version": "3.12.7"
  }
 },
 "nbformat": 4,
 "nbformat_minor": 5
}
