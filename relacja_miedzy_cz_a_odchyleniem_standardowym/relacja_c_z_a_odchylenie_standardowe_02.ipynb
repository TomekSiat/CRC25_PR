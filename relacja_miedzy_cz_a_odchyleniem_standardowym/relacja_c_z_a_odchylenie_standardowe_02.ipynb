{
 "cells": [
  {
   "cell_type": "code",
   "execution_count": 5,
   "id": "1ad53ed5-214f-4c9a-8353-2c3943b520b5",
   "metadata": {},
   "outputs": [],
   "source": [
    "import pandas as pd\n",
    "import yfinance as yf\n",
    "import numpy as np\n",
    "import plotly.express as px"
   ]
  },
  {
   "cell_type": "code",
   "execution_count": 141,
   "id": "70c98c29-880b-4289-ab7b-8c93c25f7a0f",
   "metadata": {},
   "outputs": [],
   "source": [
    "#Tickery WIG20\n",
    "Tickers= ['PKO.WA', 'PKN.WA', 'PZU.WA', 'PEO.WA', 'DNP.WA', 'ALE.WA', 'LPP.WA', 'SPL.WA', 'KGH.WA', 'CDR.WA', 'CCC.WA', 'MBK.WA', 'ALR.WA', 'KTY.WA', 'PGE.WA', 'BDX.WA', 'KRU.WA', 'OPL.WA', 'PCP.WA']"
   ]
  },
  {
   "cell_type": "code",
   "execution_count": 147,
   "id": "ca4c06a9-dccc-4ce7-a311-adf4db60e5aa",
   "metadata": {},
   "outputs": [
    {
     "name": "stderr",
     "output_type": "stream",
     "text": [
      "[*********************100%***********************]  20 of 20 completed\n"
     ]
    },
    {
     "data": {
      "text/html": [
       "<div>\n",
       "<style scoped>\n",
       "    .dataframe tbody tr th:only-of-type {\n",
       "        vertical-align: middle;\n",
       "    }\n",
       "\n",
       "    .dataframe tbody tr th {\n",
       "        vertical-align: top;\n",
       "    }\n",
       "\n",
       "    .dataframe thead th {\n",
       "        text-align: right;\n",
       "    }\n",
       "</style>\n",
       "<table border=\"1\" class=\"dataframe\">\n",
       "  <thead>\n",
       "    <tr style=\"text-align: right;\">\n",
       "      <th>Ticker</th>\n",
       "      <th>ACP.WA</th>\n",
       "      <th>ALE.WA</th>\n",
       "      <th>ATT.WA</th>\n",
       "      <th>BDX.WA</th>\n",
       "      <th>CDR.WA</th>\n",
       "      <th>CPS.WA</th>\n",
       "      <th>DNP.WA</th>\n",
       "      <th>JSW.WA</th>\n",
       "      <th>KGH.WA</th>\n",
       "      <th>KRU.WA</th>\n",
       "      <th>LPP.WA</th>\n",
       "      <th>MBK.WA</th>\n",
       "      <th>OPL.WA</th>\n",
       "      <th>PEO.WA</th>\n",
       "      <th>PGE.WA</th>\n",
       "      <th>PKN.WA</th>\n",
       "      <th>PKO.WA</th>\n",
       "      <th>PZU.WA</th>\n",
       "      <th>SPL.WA</th>\n",
       "      <th>TPE.WA</th>\n",
       "    </tr>\n",
       "    <tr>\n",
       "      <th>Date</th>\n",
       "      <th></th>\n",
       "      <th></th>\n",
       "      <th></th>\n",
       "      <th></th>\n",
       "      <th></th>\n",
       "      <th></th>\n",
       "      <th></th>\n",
       "      <th></th>\n",
       "      <th></th>\n",
       "      <th></th>\n",
       "      <th></th>\n",
       "      <th></th>\n",
       "      <th></th>\n",
       "      <th></th>\n",
       "      <th></th>\n",
       "      <th></th>\n",
       "      <th></th>\n",
       "      <th></th>\n",
       "      <th></th>\n",
       "      <th></th>\n",
       "    </tr>\n",
       "  </thead>\n",
       "  <tbody>\n",
       "    <tr>\n",
       "      <th>2025-01-10</th>\n",
       "      <td>93.849998</td>\n",
       "      <td>26.600000</td>\n",
       "      <td>19.360001</td>\n",
       "      <td>464.200012</td>\n",
       "      <td>192.149994</td>\n",
       "      <td>14.000000</td>\n",
       "      <td>407.000000</td>\n",
       "      <td>21.299999</td>\n",
       "      <td>121.599998</td>\n",
       "      <td>426.799988</td>\n",
       "      <td>15260.422852</td>\n",
       "      <td>564.400024</td>\n",
       "      <td>7.190</td>\n",
       "      <td>132.264801</td>\n",
       "      <td>5.950</td>\n",
       "      <td>50.259998</td>\n",
       "      <td>60.740002</td>\n",
       "      <td>48.130001</td>\n",
       "      <td>438.317749</td>\n",
       "      <td>3.899</td>\n",
       "    </tr>\n",
       "    <tr>\n",
       "      <th>2025-01-13</th>\n",
       "      <td>93.500000</td>\n",
       "      <td>25.670000</td>\n",
       "      <td>18.910000</td>\n",
       "      <td>464.600006</td>\n",
       "      <td>190.000000</td>\n",
       "      <td>13.625000</td>\n",
       "      <td>397.500000</td>\n",
       "      <td>22.450001</td>\n",
       "      <td>121.150002</td>\n",
       "      <td>418.799988</td>\n",
       "      <td>14604.586914</td>\n",
       "      <td>548.000000</td>\n",
       "      <td>7.178</td>\n",
       "      <td>129.556305</td>\n",
       "      <td>5.982</td>\n",
       "      <td>50.209999</td>\n",
       "      <td>60.080002</td>\n",
       "      <td>47.650002</td>\n",
       "      <td>427.243103</td>\n",
       "      <td>3.900</td>\n",
       "    </tr>\n",
       "    <tr>\n",
       "      <th>2025-01-14</th>\n",
       "      <td>94.000000</td>\n",
       "      <td>25.905001</td>\n",
       "      <td>18.799999</td>\n",
       "      <td>460.000000</td>\n",
       "      <td>192.000000</td>\n",
       "      <td>13.870000</td>\n",
       "      <td>410.000000</td>\n",
       "      <td>22.200001</td>\n",
       "      <td>120.900002</td>\n",
       "      <td>427.000000</td>\n",
       "      <td>14702.472656</td>\n",
       "      <td>563.000000</td>\n",
       "      <td>7.150</td>\n",
       "      <td>131.813385</td>\n",
       "      <td>5.954</td>\n",
       "      <td>50.450001</td>\n",
       "      <td>60.080002</td>\n",
       "      <td>47.500000</td>\n",
       "      <td>434.382141</td>\n",
       "      <td>3.898</td>\n",
       "    </tr>\n",
       "    <tr>\n",
       "      <th>2025-01-15</th>\n",
       "      <td>95.500000</td>\n",
       "      <td>26.645000</td>\n",
       "      <td>19.110001</td>\n",
       "      <td>461.399994</td>\n",
       "      <td>194.550003</td>\n",
       "      <td>14.000000</td>\n",
       "      <td>433.600006</td>\n",
       "      <td>22.639999</td>\n",
       "      <td>123.599998</td>\n",
       "      <td>438.000000</td>\n",
       "      <td>14976.553711</td>\n",
       "      <td>573.200012</td>\n",
       "      <td>7.266</td>\n",
       "      <td>134.251038</td>\n",
       "      <td>6.084</td>\n",
       "      <td>51.590000</td>\n",
       "      <td>60.820000</td>\n",
       "      <td>48.549999</td>\n",
       "      <td>440.056732</td>\n",
       "      <td>3.920</td>\n",
       "    </tr>\n",
       "    <tr>\n",
       "      <th>2025-01-16</th>\n",
       "      <td>96.550003</td>\n",
       "      <td>26.670000</td>\n",
       "      <td>18.760000</td>\n",
       "      <td>458.399994</td>\n",
       "      <td>207.100006</td>\n",
       "      <td>14.145000</td>\n",
       "      <td>435.399994</td>\n",
       "      <td>22.120001</td>\n",
       "      <td>124.250000</td>\n",
       "      <td>431.200012</td>\n",
       "      <td>15074.439453</td>\n",
       "      <td>560.000000</td>\n",
       "      <td>7.300</td>\n",
       "      <td>130.639709</td>\n",
       "      <td>5.980</td>\n",
       "      <td>51.500000</td>\n",
       "      <td>60.500000</td>\n",
       "      <td>48.540001</td>\n",
       "      <td>434.656708</td>\n",
       "      <td>3.890</td>\n",
       "    </tr>\n",
       "    <tr>\n",
       "      <th>...</th>\n",
       "      <td>...</td>\n",
       "      <td>...</td>\n",
       "      <td>...</td>\n",
       "      <td>...</td>\n",
       "      <td>...</td>\n",
       "      <td>...</td>\n",
       "      <td>...</td>\n",
       "      <td>...</td>\n",
       "      <td>...</td>\n",
       "      <td>...</td>\n",
       "      <td>...</td>\n",
       "      <td>...</td>\n",
       "      <td>...</td>\n",
       "      <td>...</td>\n",
       "      <td>...</td>\n",
       "      <td>...</td>\n",
       "      <td>...</td>\n",
       "      <td>...</td>\n",
       "      <td>...</td>\n",
       "      <td>...</td>\n",
       "    </tr>\n",
       "    <tr>\n",
       "      <th>2025-05-14</th>\n",
       "      <td>171.000000</td>\n",
       "      <td>33.580002</td>\n",
       "      <td>24.799999</td>\n",
       "      <td>625.799988</td>\n",
       "      <td>234.000000</td>\n",
       "      <td>17.844999</td>\n",
       "      <td>550.799988</td>\n",
       "      <td>23.180000</td>\n",
       "      <td>127.150002</td>\n",
       "      <td>410.299988</td>\n",
       "      <td>16385.000000</td>\n",
       "      <td>821.400024</td>\n",
       "      <td>9.568</td>\n",
       "      <td>182.500000</td>\n",
       "      <td>9.216</td>\n",
       "      <td>72.849998</td>\n",
       "      <td>78.959999</td>\n",
       "      <td>62.480000</td>\n",
       "      <td>525.200012</td>\n",
       "      <td>6.982</td>\n",
       "    </tr>\n",
       "    <tr>\n",
       "      <th>2025-05-15</th>\n",
       "      <td>171.800003</td>\n",
       "      <td>33.485001</td>\n",
       "      <td>24.000000</td>\n",
       "      <td>623.000000</td>\n",
       "      <td>231.199997</td>\n",
       "      <td>17.980000</td>\n",
       "      <td>555.599976</td>\n",
       "      <td>22.850000</td>\n",
       "      <td>123.750000</td>\n",
       "      <td>405.700012</td>\n",
       "      <td>16450.000000</td>\n",
       "      <td>812.400024</td>\n",
       "      <td>9.614</td>\n",
       "      <td>180.899994</td>\n",
       "      <td>9.020</td>\n",
       "      <td>71.699997</td>\n",
       "      <td>77.620003</td>\n",
       "      <td>63.160000</td>\n",
       "      <td>525.200012</td>\n",
       "      <td>6.880</td>\n",
       "    </tr>\n",
       "    <tr>\n",
       "      <th>2025-05-16</th>\n",
       "      <td>172.100006</td>\n",
       "      <td>33.509998</td>\n",
       "      <td>23.780001</td>\n",
       "      <td>626.400024</td>\n",
       "      <td>231.600006</td>\n",
       "      <td>17.780001</td>\n",
       "      <td>520.200012</td>\n",
       "      <td>22.940001</td>\n",
       "      <td>123.400002</td>\n",
       "      <td>403.200012</td>\n",
       "      <td>16150.000000</td>\n",
       "      <td>812.400024</td>\n",
       "      <td>9.674</td>\n",
       "      <td>181.800003</td>\n",
       "      <td>9.594</td>\n",
       "      <td>72.389999</td>\n",
       "      <td>77.160004</td>\n",
       "      <td>63.320000</td>\n",
       "      <td>534.200012</td>\n",
       "      <td>7.214</td>\n",
       "    </tr>\n",
       "    <tr>\n",
       "      <th>2025-05-19</th>\n",
       "      <td>175.300003</td>\n",
       "      <td>33.330002</td>\n",
       "      <td>23.680000</td>\n",
       "      <td>624.200012</td>\n",
       "      <td>232.199997</td>\n",
       "      <td>17.160000</td>\n",
       "      <td>532.400024</td>\n",
       "      <td>23.190001</td>\n",
       "      <td>124.150002</td>\n",
       "      <td>404.100006</td>\n",
       "      <td>15980.000000</td>\n",
       "      <td>806.599976</td>\n",
       "      <td>9.692</td>\n",
       "      <td>178.750000</td>\n",
       "      <td>9.476</td>\n",
       "      <td>72.230003</td>\n",
       "      <td>75.599998</td>\n",
       "      <td>62.560001</td>\n",
       "      <td>512.000000</td>\n",
       "      <td>7.322</td>\n",
       "    </tr>\n",
       "    <tr>\n",
       "      <th>2025-05-20</th>\n",
       "      <td>174.399994</td>\n",
       "      <td>33.799999</td>\n",
       "      <td>24.180000</td>\n",
       "      <td>634.200012</td>\n",
       "      <td>229.899994</td>\n",
       "      <td>17.020000</td>\n",
       "      <td>533.799988</td>\n",
       "      <td>23.160000</td>\n",
       "      <td>123.599998</td>\n",
       "      <td>402.700012</td>\n",
       "      <td>15830.000000</td>\n",
       "      <td>803.400024</td>\n",
       "      <td>9.888</td>\n",
       "      <td>181.500000</td>\n",
       "      <td>9.506</td>\n",
       "      <td>72.989998</td>\n",
       "      <td>76.000000</td>\n",
       "      <td>62.400002</td>\n",
       "      <td>515.599976</td>\n",
       "      <td>7.402</td>\n",
       "    </tr>\n",
       "  </tbody>\n",
       "</table>\n",
       "<p>90 rows × 20 columns</p>\n",
       "</div>"
      ],
      "text/plain": [
       "Ticker          ACP.WA     ALE.WA     ATT.WA      BDX.WA      CDR.WA  \\\n",
       "Date                                                                   \n",
       "2025-01-10   93.849998  26.600000  19.360001  464.200012  192.149994   \n",
       "2025-01-13   93.500000  25.670000  18.910000  464.600006  190.000000   \n",
       "2025-01-14   94.000000  25.905001  18.799999  460.000000  192.000000   \n",
       "2025-01-15   95.500000  26.645000  19.110001  461.399994  194.550003   \n",
       "2025-01-16   96.550003  26.670000  18.760000  458.399994  207.100006   \n",
       "...                ...        ...        ...         ...         ...   \n",
       "2025-05-14  171.000000  33.580002  24.799999  625.799988  234.000000   \n",
       "2025-05-15  171.800003  33.485001  24.000000  623.000000  231.199997   \n",
       "2025-05-16  172.100006  33.509998  23.780001  626.400024  231.600006   \n",
       "2025-05-19  175.300003  33.330002  23.680000  624.200012  232.199997   \n",
       "2025-05-20  174.399994  33.799999  24.180000  634.200012  229.899994   \n",
       "\n",
       "Ticker         CPS.WA      DNP.WA     JSW.WA      KGH.WA      KRU.WA  \\\n",
       "Date                                                                   \n",
       "2025-01-10  14.000000  407.000000  21.299999  121.599998  426.799988   \n",
       "2025-01-13  13.625000  397.500000  22.450001  121.150002  418.799988   \n",
       "2025-01-14  13.870000  410.000000  22.200001  120.900002  427.000000   \n",
       "2025-01-15  14.000000  433.600006  22.639999  123.599998  438.000000   \n",
       "2025-01-16  14.145000  435.399994  22.120001  124.250000  431.200012   \n",
       "...               ...         ...        ...         ...         ...   \n",
       "2025-05-14  17.844999  550.799988  23.180000  127.150002  410.299988   \n",
       "2025-05-15  17.980000  555.599976  22.850000  123.750000  405.700012   \n",
       "2025-05-16  17.780001  520.200012  22.940001  123.400002  403.200012   \n",
       "2025-05-19  17.160000  532.400024  23.190001  124.150002  404.100006   \n",
       "2025-05-20  17.020000  533.799988  23.160000  123.599998  402.700012   \n",
       "\n",
       "Ticker            LPP.WA      MBK.WA  OPL.WA      PEO.WA  PGE.WA     PKN.WA  \\\n",
       "Date                                                                          \n",
       "2025-01-10  15260.422852  564.400024   7.190  132.264801   5.950  50.259998   \n",
       "2025-01-13  14604.586914  548.000000   7.178  129.556305   5.982  50.209999   \n",
       "2025-01-14  14702.472656  563.000000   7.150  131.813385   5.954  50.450001   \n",
       "2025-01-15  14976.553711  573.200012   7.266  134.251038   6.084  51.590000   \n",
       "2025-01-16  15074.439453  560.000000   7.300  130.639709   5.980  51.500000   \n",
       "...                  ...         ...     ...         ...     ...        ...   \n",
       "2025-05-14  16385.000000  821.400024   9.568  182.500000   9.216  72.849998   \n",
       "2025-05-15  16450.000000  812.400024   9.614  180.899994   9.020  71.699997   \n",
       "2025-05-16  16150.000000  812.400024   9.674  181.800003   9.594  72.389999   \n",
       "2025-05-19  15980.000000  806.599976   9.692  178.750000   9.476  72.230003   \n",
       "2025-05-20  15830.000000  803.400024   9.888  181.500000   9.506  72.989998   \n",
       "\n",
       "Ticker         PKO.WA     PZU.WA      SPL.WA  TPE.WA  \n",
       "Date                                                  \n",
       "2025-01-10  60.740002  48.130001  438.317749   3.899  \n",
       "2025-01-13  60.080002  47.650002  427.243103   3.900  \n",
       "2025-01-14  60.080002  47.500000  434.382141   3.898  \n",
       "2025-01-15  60.820000  48.549999  440.056732   3.920  \n",
       "2025-01-16  60.500000  48.540001  434.656708   3.890  \n",
       "...               ...        ...         ...     ...  \n",
       "2025-05-14  78.959999  62.480000  525.200012   6.982  \n",
       "2025-05-15  77.620003  63.160000  525.200012   6.880  \n",
       "2025-05-16  77.160004  63.320000  534.200012   7.214  \n",
       "2025-05-19  75.599998  62.560001  512.000000   7.322  \n",
       "2025-05-20  76.000000  62.400002  515.599976   7.402  \n",
       "\n",
       "[90 rows x 20 columns]"
      ]
     },
     "execution_count": 147,
     "metadata": {},
     "output_type": "execute_result"
    }
   ],
   "source": [
    "# Dane\n",
    "data = yf.download(tickers, period='90d')['Close']\n",
    "data = data.dropna()\n",
    "data"
   ]
  },
  {
   "cell_type": "code",
   "execution_count": 151,
   "id": "4d62c259-8ec1-42fd-9d8b-cad9e8670eba",
   "metadata": {},
   "outputs": [
    {
     "data": {
      "text/plain": [
       "{'PKN.WA': 10.624454,\n",
       " 'KGH.WA': 8.91132,\n",
       " 'CDR.WA': 52.369022,\n",
       " 'PZU.WA': 9.20354,\n",
       " 'PKO.WA': 9.78121,\n",
       " 'PEO.WA': 7.277466,\n",
       " 'LPP.WA': 16.818598,\n",
       " 'DNP.WA': 34.46094,\n",
       " 'ALE.WA': 34.84536,\n",
       " 'CPS.WA': 12.070923,\n",
       " 'OPL.WA': 14.541176,\n",
       " 'JSW.WA': None,\n",
       " 'MBK.WA': 12.720077,\n",
       " 'PGE.WA': None,\n",
       " 'TPE.WA': 22.430302,\n",
       " 'SPL.WA': 9.7873955,\n",
       " 'ATT.WA': None,\n",
       " 'ACP.WA': 22.857141,\n",
       " 'KRU.WA': 8.346114,\n",
       " 'BDX.WA': 26.458075}"
      ]
     },
     "execution_count": 151,
     "metadata": {},
     "output_type": "execute_result"
    }
   ],
   "source": [
    "pe_ratios = {ticker: yf.Ticker(ticker).info.get('trailingPE') for ticker in tickers}\n",
    "pe_ratios"
   ]
  },
  {
   "cell_type": "code",
   "execution_count": 153,
   "id": "8cae492e-5b04-4238-b6e9-6f446310a274",
   "metadata": {},
   "outputs": [
    {
     "data": {
      "text/plain": [
       "Ticker\n",
       "ACP.WA      22.570570\n",
       "ALE.WA       2.282548\n",
       "ATT.WA       1.402383\n",
       "BDX.WA      61.856075\n",
       "CDR.WA      12.535274\n",
       "CPS.WA       1.539148\n",
       "DNP.WA      36.373595\n",
       "JSW.WA       1.432082\n",
       "KGH.WA       8.164725\n",
       "KRU.WA      23.844361\n",
       "LPP.WA    1070.704342\n",
       "MBK.WA      91.387848\n",
       "OPL.WA       0.769226\n",
       "PEO.WA      13.934306\n",
       "PGE.WA       0.928544\n",
       "PKN.WA       6.798801\n",
       "PKO.WA       5.426061\n",
       "PZU.WA       4.170891\n",
       "SPL.WA      35.236829\n",
       "TPE.WA       0.905046\n",
       "dtype: float64"
      ]
     },
     "execution_count": 153,
     "metadata": {},
     "output_type": "execute_result"
    }
   ],
   "source": [
    "data.std()"
   ]
  },
  {
   "cell_type": "code",
   "execution_count": 173,
   "id": "65e8bc46-a085-46b2-9703-6a82812414b3",
   "metadata": {},
   "outputs": [],
   "source": [
    "data_log = np.log(data/data.shift(1))"
   ]
  },
  {
   "cell_type": "code",
   "execution_count": 175,
   "id": "5858ebd8-5062-4ac3-a728-6b5ac52817d1",
   "metadata": {},
   "outputs": [],
   "source": [
    "std = data_log.std()"
   ]
  },
  {
   "cell_type": "code",
   "execution_count": 177,
   "id": "2e35ceee-c086-4729-ba64-45ad099d4ef3",
   "metadata": {},
   "outputs": [
    {
     "data": {
      "text/plain": [
       "Ticker\n",
       "ACP.WA    0.006962\n",
       "ALE.WA    0.002692\n",
       "ATT.WA    0.002498\n",
       "BDX.WA    0.003506\n",
       "CDR.WA    0.002015\n",
       "CPS.WA    0.002195\n",
       "DNP.WA    0.003047\n",
       "JSW.WA    0.000941\n",
       "KGH.WA    0.000183\n",
       "KRU.WA   -0.000653\n",
       "LPP.WA    0.000412\n",
       "MBK.WA    0.003967\n",
       "OPL.WA    0.003580\n",
       "PEO.WA    0.003556\n",
       "PGE.WA    0.005264\n",
       "PKN.WA    0.004192\n",
       "PKO.WA    0.002518\n",
       "PZU.WA    0.002918\n",
       "SPL.WA    0.001825\n",
       "TPE.WA    0.007203\n",
       "dtype: float64"
      ]
     },
     "execution_count": 177,
     "metadata": {},
     "output_type": "execute_result"
    }
   ],
   "source": [
    "data_log.mean()"
   ]
  },
  {
   "cell_type": "code",
   "execution_count": 161,
   "id": "a9398995-d854-48cf-a1dd-0177bd1904ae",
   "metadata": {},
   "outputs": [
    {
     "data": {
      "text/plain": [
       "Ticker\n",
       "ACP.WA    0.382228\n",
       "ALE.WA    0.385574\n",
       "ATT.WA    0.380768\n",
       "BDX.WA    0.392953\n",
       "CDR.WA    0.408384\n",
       "CPS.WA    0.305999\n",
       "DNP.WA    0.301594\n",
       "JSW.WA    0.444784\n",
       "KGH.WA    0.395934\n",
       "KRU.WA    0.303124\n",
       "LPP.WA    0.331641\n",
       "MBK.WA    0.411983\n",
       "OPL.WA    0.236117\n",
       "PEO.WA    0.428058\n",
       "PGE.WA    0.398690\n",
       "PKN.WA    0.227790\n",
       "PKO.WA    0.424788\n",
       "PZU.WA    0.297370\n",
       "SPL.WA    0.425534\n",
       "TPE.WA    0.331964\n",
       "dtype: float64"
      ]
     },
     "execution_count": 161,
     "metadata": {},
     "output_type": "execute_result"
    }
   ],
   "source": [
    "annual_vol = std * np.sqrt(252)\n",
    "annual_vol"
   ]
  },
  {
   "cell_type": "code",
   "execution_count": 163,
   "id": "37940868-6dcb-4b18-83ed-95f5af9d63f4",
   "metadata": {},
   "outputs": [],
   "source": [
    "# Połączenie danych\n",
    "df = pd.DataFrame({'PE Ratio (TTM)': pd.Series(pe_ratios),'Annual Volatility': annual_vol}).dropna()"
   ]
  },
  {
   "cell_type": "code",
   "execution_count": 165,
   "id": "00902b12-56a1-4e31-a696-436df22202ac",
   "metadata": {},
   "outputs": [
    {
     "data": {
      "text/html": [
       "<div>\n",
       "<style scoped>\n",
       "    .dataframe tbody tr th:only-of-type {\n",
       "        vertical-align: middle;\n",
       "    }\n",
       "\n",
       "    .dataframe tbody tr th {\n",
       "        vertical-align: top;\n",
       "    }\n",
       "\n",
       "    .dataframe thead th {\n",
       "        text-align: right;\n",
       "    }\n",
       "</style>\n",
       "<table border=\"1\" class=\"dataframe\">\n",
       "  <thead>\n",
       "    <tr style=\"text-align: right;\">\n",
       "      <th></th>\n",
       "      <th>PE Ratio (TTM)</th>\n",
       "      <th>Annual Volatility</th>\n",
       "    </tr>\n",
       "  </thead>\n",
       "  <tbody>\n",
       "    <tr>\n",
       "      <th>PE Ratio (TTM)</th>\n",
       "      <td>1.000000</td>\n",
       "      <td>0.146186</td>\n",
       "    </tr>\n",
       "    <tr>\n",
       "      <th>Annual Volatility</th>\n",
       "      <td>0.146186</td>\n",
       "      <td>1.000000</td>\n",
       "    </tr>\n",
       "  </tbody>\n",
       "</table>\n",
       "</div>"
      ],
      "text/plain": [
       "                   PE Ratio (TTM)  Annual Volatility\n",
       "PE Ratio (TTM)           1.000000           0.146186\n",
       "Annual Volatility        0.146186           1.000000"
      ]
     },
     "execution_count": 165,
     "metadata": {},
     "output_type": "execute_result"
    }
   ],
   "source": [
    "df.corr()"
   ]
  },
  {
   "cell_type": "code",
   "execution_count": 167,
   "id": "9676f476-f08c-4f49-85c2-e3a8f26894e5",
   "metadata": {},
   "outputs": [
    {
     "data": {
      "application/vnd.plotly.v1+json": {
       "config": {
        "plotlyServerURL": "https://plot.ly"
       },
       "data": [
        {
         "hovertemplate": "Annual Volatility=%{x}<br>PE Ratio (TTM)=%{y}<br>index=%{text}<extra></extra>",
         "legendgroup": "",
         "marker": {
          "color": "#636efa",
          "symbol": "circle"
         },
         "mode": "markers+text",
         "name": "",
         "orientation": "v",
         "showlegend": false,
         "text": [
          "ACP.WA",
          "ALE.WA",
          "BDX.WA",
          "CDR.WA",
          "CPS.WA",
          "DNP.WA",
          "KGH.WA",
          "KRU.WA",
          "LPP.WA",
          "MBK.WA",
          "OPL.WA",
          "PEO.WA",
          "PKN.WA",
          "PKO.WA",
          "PZU.WA",
          "SPL.WA",
          "TPE.WA"
         ],
         "textposition": "top center",
         "type": "scatter",
         "x": [
          0.38222794053366677,
          0.385574415231019,
          0.3929534699104499,
          0.4083839184807452,
          0.30599895862351195,
          0.3015936240038383,
          0.395933570030742,
          0.3031237586578599,
          0.3316405763318832,
          0.41198322517652475,
          0.23611710197556968,
          0.42805814537814046,
          0.22779011656876588,
          0.4247883202278411,
          0.29736990891672016,
          0.42553386537062776,
          0.3319639158834539
         ],
         "xaxis": "x",
         "y": [
          22.857141,
          34.84536,
          26.458075,
          52.369022,
          12.070923,
          34.46094,
          8.91132,
          8.346114,
          16.818598,
          12.720077,
          14.541176,
          7.277466,
          10.624454,
          9.78121,
          9.20354,
          9.7873955,
          22.430302
         ],
         "yaxis": "y"
        }
       ],
       "layout": {
        "autosize": true,
        "legend": {
         "tracegroupgap": 0
        },
        "template": {
         "data": {
          "bar": [
           {
            "error_x": {
             "color": "#2a3f5f"
            },
            "error_y": {
             "color": "#2a3f5f"
            },
            "marker": {
             "line": {
              "color": "#E5ECF6",
              "width": 0.5
             },
             "pattern": {
              "fillmode": "overlay",
              "size": 10,
              "solidity": 0.2
             }
            },
            "type": "bar"
           }
          ],
          "barpolar": [
           {
            "marker": {
             "line": {
              "color": "#E5ECF6",
              "width": 0.5
             },
             "pattern": {
              "fillmode": "overlay",
              "size": 10,
              "solidity": 0.2
             }
            },
            "type": "barpolar"
           }
          ],
          "carpet": [
           {
            "aaxis": {
             "endlinecolor": "#2a3f5f",
             "gridcolor": "white",
             "linecolor": "white",
             "minorgridcolor": "white",
             "startlinecolor": "#2a3f5f"
            },
            "baxis": {
             "endlinecolor": "#2a3f5f",
             "gridcolor": "white",
             "linecolor": "white",
             "minorgridcolor": "white",
             "startlinecolor": "#2a3f5f"
            },
            "type": "carpet"
           }
          ],
          "choropleth": [
           {
            "colorbar": {
             "outlinewidth": 0,
             "ticks": ""
            },
            "type": "choropleth"
           }
          ],
          "contour": [
           {
            "colorbar": {
             "outlinewidth": 0,
             "ticks": ""
            },
            "colorscale": [
             [
              0,
              "#0d0887"
             ],
             [
              0.1111111111111111,
              "#46039f"
             ],
             [
              0.2222222222222222,
              "#7201a8"
             ],
             [
              0.3333333333333333,
              "#9c179e"
             ],
             [
              0.4444444444444444,
              "#bd3786"
             ],
             [
              0.5555555555555556,
              "#d8576b"
             ],
             [
              0.6666666666666666,
              "#ed7953"
             ],
             [
              0.7777777777777778,
              "#fb9f3a"
             ],
             [
              0.8888888888888888,
              "#fdca26"
             ],
             [
              1,
              "#f0f921"
             ]
            ],
            "type": "contour"
           }
          ],
          "contourcarpet": [
           {
            "colorbar": {
             "outlinewidth": 0,
             "ticks": ""
            },
            "type": "contourcarpet"
           }
          ],
          "heatmap": [
           {
            "colorbar": {
             "outlinewidth": 0,
             "ticks": ""
            },
            "colorscale": [
             [
              0,
              "#0d0887"
             ],
             [
              0.1111111111111111,
              "#46039f"
             ],
             [
              0.2222222222222222,
              "#7201a8"
             ],
             [
              0.3333333333333333,
              "#9c179e"
             ],
             [
              0.4444444444444444,
              "#bd3786"
             ],
             [
              0.5555555555555556,
              "#d8576b"
             ],
             [
              0.6666666666666666,
              "#ed7953"
             ],
             [
              0.7777777777777778,
              "#fb9f3a"
             ],
             [
              0.8888888888888888,
              "#fdca26"
             ],
             [
              1,
              "#f0f921"
             ]
            ],
            "type": "heatmap"
           }
          ],
          "heatmapgl": [
           {
            "colorbar": {
             "outlinewidth": 0,
             "ticks": ""
            },
            "colorscale": [
             [
              0,
              "#0d0887"
             ],
             [
              0.1111111111111111,
              "#46039f"
             ],
             [
              0.2222222222222222,
              "#7201a8"
             ],
             [
              0.3333333333333333,
              "#9c179e"
             ],
             [
              0.4444444444444444,
              "#bd3786"
             ],
             [
              0.5555555555555556,
              "#d8576b"
             ],
             [
              0.6666666666666666,
              "#ed7953"
             ],
             [
              0.7777777777777778,
              "#fb9f3a"
             ],
             [
              0.8888888888888888,
              "#fdca26"
             ],
             [
              1,
              "#f0f921"
             ]
            ],
            "type": "heatmapgl"
           }
          ],
          "histogram": [
           {
            "marker": {
             "pattern": {
              "fillmode": "overlay",
              "size": 10,
              "solidity": 0.2
             }
            },
            "type": "histogram"
           }
          ],
          "histogram2d": [
           {
            "colorbar": {
             "outlinewidth": 0,
             "ticks": ""
            },
            "colorscale": [
             [
              0,
              "#0d0887"
             ],
             [
              0.1111111111111111,
              "#46039f"
             ],
             [
              0.2222222222222222,
              "#7201a8"
             ],
             [
              0.3333333333333333,
              "#9c179e"
             ],
             [
              0.4444444444444444,
              "#bd3786"
             ],
             [
              0.5555555555555556,
              "#d8576b"
             ],
             [
              0.6666666666666666,
              "#ed7953"
             ],
             [
              0.7777777777777778,
              "#fb9f3a"
             ],
             [
              0.8888888888888888,
              "#fdca26"
             ],
             [
              1,
              "#f0f921"
             ]
            ],
            "type": "histogram2d"
           }
          ],
          "histogram2dcontour": [
           {
            "colorbar": {
             "outlinewidth": 0,
             "ticks": ""
            },
            "colorscale": [
             [
              0,
              "#0d0887"
             ],
             [
              0.1111111111111111,
              "#46039f"
             ],
             [
              0.2222222222222222,
              "#7201a8"
             ],
             [
              0.3333333333333333,
              "#9c179e"
             ],
             [
              0.4444444444444444,
              "#bd3786"
             ],
             [
              0.5555555555555556,
              "#d8576b"
             ],
             [
              0.6666666666666666,
              "#ed7953"
             ],
             [
              0.7777777777777778,
              "#fb9f3a"
             ],
             [
              0.8888888888888888,
              "#fdca26"
             ],
             [
              1,
              "#f0f921"
             ]
            ],
            "type": "histogram2dcontour"
           }
          ],
          "mesh3d": [
           {
            "colorbar": {
             "outlinewidth": 0,
             "ticks": ""
            },
            "type": "mesh3d"
           }
          ],
          "parcoords": [
           {
            "line": {
             "colorbar": {
              "outlinewidth": 0,
              "ticks": ""
             }
            },
            "type": "parcoords"
           }
          ],
          "pie": [
           {
            "automargin": true,
            "type": "pie"
           }
          ],
          "scatter": [
           {
            "fillpattern": {
             "fillmode": "overlay",
             "size": 10,
             "solidity": 0.2
            },
            "type": "scatter"
           }
          ],
          "scatter3d": [
           {
            "line": {
             "colorbar": {
              "outlinewidth": 0,
              "ticks": ""
             }
            },
            "marker": {
             "colorbar": {
              "outlinewidth": 0,
              "ticks": ""
             }
            },
            "type": "scatter3d"
           }
          ],
          "scattercarpet": [
           {
            "marker": {
             "colorbar": {
              "outlinewidth": 0,
              "ticks": ""
             }
            },
            "type": "scattercarpet"
           }
          ],
          "scattergeo": [
           {
            "marker": {
             "colorbar": {
              "outlinewidth": 0,
              "ticks": ""
             }
            },
            "type": "scattergeo"
           }
          ],
          "scattergl": [
           {
            "marker": {
             "colorbar": {
              "outlinewidth": 0,
              "ticks": ""
             }
            },
            "type": "scattergl"
           }
          ],
          "scattermapbox": [
           {
            "marker": {
             "colorbar": {
              "outlinewidth": 0,
              "ticks": ""
             }
            },
            "type": "scattermapbox"
           }
          ],
          "scatterpolar": [
           {
            "marker": {
             "colorbar": {
              "outlinewidth": 0,
              "ticks": ""
             }
            },
            "type": "scatterpolar"
           }
          ],
          "scatterpolargl": [
           {
            "marker": {
             "colorbar": {
              "outlinewidth": 0,
              "ticks": ""
             }
            },
            "type": "scatterpolargl"
           }
          ],
          "scatterternary": [
           {
            "marker": {
             "colorbar": {
              "outlinewidth": 0,
              "ticks": ""
             }
            },
            "type": "scatterternary"
           }
          ],
          "surface": [
           {
            "colorbar": {
             "outlinewidth": 0,
             "ticks": ""
            },
            "colorscale": [
             [
              0,
              "#0d0887"
             ],
             [
              0.1111111111111111,
              "#46039f"
             ],
             [
              0.2222222222222222,
              "#7201a8"
             ],
             [
              0.3333333333333333,
              "#9c179e"
             ],
             [
              0.4444444444444444,
              "#bd3786"
             ],
             [
              0.5555555555555556,
              "#d8576b"
             ],
             [
              0.6666666666666666,
              "#ed7953"
             ],
             [
              0.7777777777777778,
              "#fb9f3a"
             ],
             [
              0.8888888888888888,
              "#fdca26"
             ],
             [
              1,
              "#f0f921"
             ]
            ],
            "type": "surface"
           }
          ],
          "table": [
           {
            "cells": {
             "fill": {
              "color": "#EBF0F8"
             },
             "line": {
              "color": "white"
             }
            },
            "header": {
             "fill": {
              "color": "#C8D4E3"
             },
             "line": {
              "color": "white"
             }
            },
            "type": "table"
           }
          ]
         },
         "layout": {
          "annotationdefaults": {
           "arrowcolor": "#2a3f5f",
           "arrowhead": 0,
           "arrowwidth": 1
          },
          "autotypenumbers": "strict",
          "coloraxis": {
           "colorbar": {
            "outlinewidth": 0,
            "ticks": ""
           }
          },
          "colorscale": {
           "diverging": [
            [
             0,
             "#8e0152"
            ],
            [
             0.1,
             "#c51b7d"
            ],
            [
             0.2,
             "#de77ae"
            ],
            [
             0.3,
             "#f1b6da"
            ],
            [
             0.4,
             "#fde0ef"
            ],
            [
             0.5,
             "#f7f7f7"
            ],
            [
             0.6,
             "#e6f5d0"
            ],
            [
             0.7,
             "#b8e186"
            ],
            [
             0.8,
             "#7fbc41"
            ],
            [
             0.9,
             "#4d9221"
            ],
            [
             1,
             "#276419"
            ]
           ],
           "sequential": [
            [
             0,
             "#0d0887"
            ],
            [
             0.1111111111111111,
             "#46039f"
            ],
            [
             0.2222222222222222,
             "#7201a8"
            ],
            [
             0.3333333333333333,
             "#9c179e"
            ],
            [
             0.4444444444444444,
             "#bd3786"
            ],
            [
             0.5555555555555556,
             "#d8576b"
            ],
            [
             0.6666666666666666,
             "#ed7953"
            ],
            [
             0.7777777777777778,
             "#fb9f3a"
            ],
            [
             0.8888888888888888,
             "#fdca26"
            ],
            [
             1,
             "#f0f921"
            ]
           ],
           "sequentialminus": [
            [
             0,
             "#0d0887"
            ],
            [
             0.1111111111111111,
             "#46039f"
            ],
            [
             0.2222222222222222,
             "#7201a8"
            ],
            [
             0.3333333333333333,
             "#9c179e"
            ],
            [
             0.4444444444444444,
             "#bd3786"
            ],
            [
             0.5555555555555556,
             "#d8576b"
            ],
            [
             0.6666666666666666,
             "#ed7953"
            ],
            [
             0.7777777777777778,
             "#fb9f3a"
            ],
            [
             0.8888888888888888,
             "#fdca26"
            ],
            [
             1,
             "#f0f921"
            ]
           ]
          },
          "colorway": [
           "#636efa",
           "#EF553B",
           "#00cc96",
           "#ab63fa",
           "#FFA15A",
           "#19d3f3",
           "#FF6692",
           "#B6E880",
           "#FF97FF",
           "#FECB52"
          ],
          "font": {
           "color": "#2a3f5f"
          },
          "geo": {
           "bgcolor": "white",
           "lakecolor": "white",
           "landcolor": "#E5ECF6",
           "showlakes": true,
           "showland": true,
           "subunitcolor": "white"
          },
          "hoverlabel": {
           "align": "left"
          },
          "hovermode": "closest",
          "mapbox": {
           "style": "light"
          },
          "paper_bgcolor": "white",
          "plot_bgcolor": "#E5ECF6",
          "polar": {
           "angularaxis": {
            "gridcolor": "white",
            "linecolor": "white",
            "ticks": ""
           },
           "bgcolor": "#E5ECF6",
           "radialaxis": {
            "gridcolor": "white",
            "linecolor": "white",
            "ticks": ""
           }
          },
          "scene": {
           "xaxis": {
            "backgroundcolor": "#E5ECF6",
            "gridcolor": "white",
            "gridwidth": 2,
            "linecolor": "white",
            "showbackground": true,
            "ticks": "",
            "zerolinecolor": "white"
           },
           "yaxis": {
            "backgroundcolor": "#E5ECF6",
            "gridcolor": "white",
            "gridwidth": 2,
            "linecolor": "white",
            "showbackground": true,
            "ticks": "",
            "zerolinecolor": "white"
           },
           "zaxis": {
            "backgroundcolor": "#E5ECF6",
            "gridcolor": "white",
            "gridwidth": 2,
            "linecolor": "white",
            "showbackground": true,
            "ticks": "",
            "zerolinecolor": "white"
           }
          },
          "shapedefaults": {
           "line": {
            "color": "#2a3f5f"
           }
          },
          "ternary": {
           "aaxis": {
            "gridcolor": "white",
            "linecolor": "white",
            "ticks": ""
           },
           "baxis": {
            "gridcolor": "white",
            "linecolor": "white",
            "ticks": ""
           },
           "bgcolor": "#E5ECF6",
           "caxis": {
            "gridcolor": "white",
            "linecolor": "white",
            "ticks": ""
           }
          },
          "title": {
           "x": 0.05
          },
          "xaxis": {
           "automargin": true,
           "gridcolor": "white",
           "linecolor": "white",
           "ticks": "",
           "title": {
            "standoff": 15
           },
           "zerolinecolor": "white",
           "zerolinewidth": 2
          },
          "yaxis": {
           "automargin": true,
           "gridcolor": "white",
           "linecolor": "white",
           "ticks": "",
           "title": {
            "standoff": 15
           },
           "zerolinecolor": "white",
           "zerolinewidth": 2
          }
         }
        },
        "title": {
         "text": "C/Z a Zmienność WIG20"
        },
        "xaxis": {
         "anchor": "y",
         "autorange": true,
         "domain": [
          0,
          1
         ],
         "range": [
          0.2156403754024997,
          0.4402078865444067
         ],
         "title": {
          "text": "Annual Volatility"
         },
         "type": "linear"
        },
        "yaxis": {
         "anchor": "x",
         "autorange": true,
         "domain": [
          0,
          1
         ],
         "range": [
          3.556318174757282,
          56.09016982524272
         ],
         "title": {
          "text": "PE Ratio (TTM)"
         },
         "type": "linear"
        }
       }
      },
      "image/png": "[encoded data removed]",
      "text/html": [
       "<div>                            <div id=\"10a29c74-9c0b-4082-aab1-527a0186f2a9\" class=\"plotly-graph-div\" style=\"height:525px; width:100%;\"></div>            <script type=\"text/javascript\">                require([\"plotly\"], function(Plotly) {                    window.PLOTLYENV=window.PLOTLYENV || {};                                    if (document.getElementById(\"10a29c74-9c0b-4082-aab1-527a0186f2a9\")) {                    Plotly.newPlot(                        \"10a29c74-9c0b-4082-aab1-527a0186f2a9\",                        [{\"hovertemplate\":\"Annual Volatility=%{x}\\u003cbr\\u003ePE Ratio (TTM)=%{y}\\u003cbr\\u003eindex=%{text}\\u003cextra\\u003e\\u003c\\u002fextra\\u003e\",\"legendgroup\":\"\",\"marker\":{\"color\":\"#636efa\",\"symbol\":\"circle\"},\"mode\":\"markers+text\",\"name\":\"\",\"orientation\":\"v\",\"showlegend\":false,\"text\":[\"ACP.WA\",\"ALE.WA\",\"BDX.WA\",\"CDR.WA\",\"CPS.WA\",\"DNP.WA\",\"KGH.WA\",\"KRU.WA\",\"LPP.WA\",\"MBK.WA\",\"OPL.WA\",\"PEO.WA\",\"PKN.WA\",\"PKO.WA\",\"PZU.WA\",\"SPL.WA\",\"TPE.WA\"],\"x\":[0.38222794053366677,0.385574415231019,0.3929534699104499,0.4083839184807452,0.30599895862351195,0.3015936240038383,0.395933570030742,0.3031237586578599,0.3316405763318832,0.41198322517652475,0.23611710197556968,0.42805814537814046,0.22779011656876588,0.4247883202278411,0.29736990891672016,0.42553386537062776,0.3319639158834539],\"xaxis\":\"x\",\"y\":[22.857141,34.84536,26.458075,52.369022,12.070923,34.46094,8.91132,8.346114,16.818598,12.720077,14.541176,7.277466,10.624454,9.78121,9.20354,9.7873955,22.430302],\"yaxis\":\"y\",\"type\":\"scatter\",\"textposition\":\"top center\"}],                        {\"template\":{\"data\":{\"histogram2dcontour\":[{\"type\":\"histogram2dcontour\",\"colorbar\":{\"outlinewidth\":0,\"ticks\":\"\"},\"colorscale\":[[0.0,\"#0d0887\"],[0.1111111111111111,\"#46039f\"],[0.2222222222222222,\"#7201a8\"],[0.3333333333333333,\"#9c179e\"],[0.4444444444444444,\"#bd3786\"],[0.5555555555555556,\"#d8576b\"],[0.6666666666666666,\"#ed7953\"],[0.7777777777777778,\"#fb9f3a\"],[0.8888888888888888,\"#fdca26\"],[1.0,\"#f0f921\"]]}],\"choropleth\":[{\"type\":\"choropleth\",\"colorbar\":{\"outlinewidth\":0,\"ticks\":\"\"}}],\"histogram2d\":[{\"type\":\"histogram2d\",\"colorbar\":{\"outlinewidth\":0,\"ticks\":\"\"},\"colorscale\":[[0.0,\"#0d0887\"],[0.1111111111111111,\"#46039f\"],[0.2222222222222222,\"#7201a8\"],[0.3333333333333333,\"#9c179e\"],[0.4444444444444444,\"#bd3786\"],[0.5555555555555556,\"#d8576b\"],[0.6666666666666666,\"#ed7953\"],[0.7777777777777778,\"#fb9f3a\"],[0.8888888888888888,\"#fdca26\"],[1.0,\"#f0f921\"]]}],\"heatmap\":[{\"type\":\"heatmap\",\"colorbar\":{\"outlinewidth\":0,\"ticks\":\"\"},\"colorscale\":[[0.0,\"#0d0887\"],[0.1111111111111111,\"#46039f\"],[0.2222222222222222,\"#7201a8\"],[0.3333333333333333,\"#9c179e\"],[0.4444444444444444,\"#bd3786\"],[0.5555555555555556,\"#d8576b\"],[0.6666666666666666,\"#ed7953\"],[0.7777777777777778,\"#fb9f3a\"],[0.8888888888888888,\"#fdca26\"],[1.0,\"#f0f921\"]]}],\"heatmapgl\":[{\"type\":\"heatmapgl\",\"colorbar\":{\"outlinewidth\":0,\"ticks\":\"\"},\"colorscale\":[[0.0,\"#0d0887\"],[0.1111111111111111,\"#46039f\"],[0.2222222222222222,\"#7201a8\"],[0.3333333333333333,\"#9c179e\"],[0.4444444444444444,\"#bd3786\"],[0.5555555555555556,\"#d8576b\"],[0.6666666666666666,\"#ed7953\"],[0.7777777777777778,\"#fb9f3a\"],[0.8888888888888888,\"#fdca26\"],[1.0,\"#f0f921\"]]}],\"contourcarpet\":[{\"type\":\"contourcarpet\",\"colorbar\":{\"outlinewidth\":0,\"ticks\":\"\"}}],\"contour\":[{\"type\":\"contour\",\"colorbar\":{\"outlinewidth\":0,\"ticks\":\"\"},\"colorscale\":[[0.0,\"#0d0887\"],[0.1111111111111111,\"#46039f\"],[0.2222222222222222,\"#7201a8\"],[0.3333333333333333,\"#9c179e\"],[0.4444444444444444,\"#bd3786\"],[0.5555555555555556,\"#d8576b\"],[0.6666666666666666,\"#ed7953\"],[0.7777777777777778,\"#fb9f3a\"],[0.8888888888888888,\"#fdca26\"],[1.0,\"#f0f921\"]]}],\"surface\":[{\"type\":\"surface\",\"colorbar\":{\"outlinewidth\":0,\"ticks\":\"\"},\"colorscale\":[[0.0,\"#0d0887\"],[0.1111111111111111,\"#46039f\"],[0.2222222222222222,\"#7201a8\"],[0.3333333333333333,\"#9c179e\"],[0.4444444444444444,\"#bd3786\"],[0.5555555555555556,\"#d8576b\"],[0.6666666666666666,\"#ed7953\"],[0.7777777777777778,\"#fb9f3a\"],[0.8888888888888888,\"#fdca26\"],[1.0,\"#f0f921\"]]}],\"mesh3d\":[{\"type\":\"mesh3d\",\"colorbar\":{\"outlinewidth\":0,\"ticks\":\"\"}}],\"scatter\":[{\"fillpattern\":{\"fillmode\":\"overlay\",\"size\":10,\"solidity\":0.2},\"type\":\"scatter\"}],\"parcoords\":[{\"type\":\"parcoords\",\"line\":{\"colorbar\":{\"outlinewidth\":0,\"ticks\":\"\"}}}],\"scatterpolargl\":[{\"type\":\"scatterpolargl\",\"marker\":{\"colorbar\":{\"outlinewidth\":0,\"ticks\":\"\"}}}],\"bar\":[{\"error_x\":{\"color\":\"#2a3f5f\"},\"error_y\":{\"color\":\"#2a3f5f\"},\"marker\":{\"line\":{\"color\":\"#E5ECF6\",\"width\":0.5},\"pattern\":{\"fillmode\":\"overlay\",\"size\":10,\"solidity\":0.2}},\"type\":\"bar\"}],\"scattergeo\":[{\"type\":\"scattergeo\",\"marker\":{\"colorbar\":{\"outlinewidth\":0,\"ticks\":\"\"}}}],\"scatterpolar\":[{\"type\":\"scatterpolar\",\"marker\":{\"colorbar\":{\"outlinewidth\":0,\"ticks\":\"\"}}}],\"histogram\":[{\"marker\":{\"pattern\":{\"fillmode\":\"overlay\",\"size\":10,\"solidity\":0.2}},\"type\":\"histogram\"}],\"scattergl\":[{\"type\":\"scattergl\",\"marker\":{\"colorbar\":{\"outlinewidth\":0,\"ticks\":\"\"}}}],\"scatter3d\":[{\"type\":\"scatter3d\",\"line\":{\"colorbar\":{\"outlinewidth\":0,\"ticks\":\"\"}},\"marker\":{\"colorbar\":{\"outlinewidth\":0,\"ticks\":\"\"}}}],\"scattermapbox\":[{\"type\":\"scattermapbox\",\"marker\":{\"colorbar\":{\"outlinewidth\":0,\"ticks\":\"\"}}}],\"scatterternary\":[{\"type\":\"scatterternary\",\"marker\":{\"colorbar\":{\"outlinewidth\":0,\"ticks\":\"\"}}}],\"scattercarpet\":[{\"type\":\"scattercarpet\",\"marker\":{\"colorbar\":{\"outlinewidth\":0,\"ticks\":\"\"}}}],\"carpet\":[{\"aaxis\":{\"endlinecolor\":\"#2a3f5f\",\"gridcolor\":\"white\",\"linecolor\":\"white\",\"minorgridcolor\":\"white\",\"startlinecolor\":\"#2a3f5f\"},\"baxis\":{\"endlinecolor\":\"#2a3f5f\",\"gridcolor\":\"white\",\"linecolor\":\"white\",\"minorgridcolor\":\"white\",\"startlinecolor\":\"#2a3f5f\"},\"type\":\"carpet\"}],\"table\":[{\"cells\":{\"fill\":{\"color\":\"#EBF0F8\"},\"line\":{\"color\":\"white\"}},\"header\":{\"fill\":{\"color\":\"#C8D4E3\"},\"line\":{\"color\":\"white\"}},\"type\":\"table\"}],\"barpolar\":[{\"marker\":{\"line\":{\"color\":\"#E5ECF6\",\"width\":0.5},\"pattern\":{\"fillmode\":\"overlay\",\"size\":10,\"solidity\":0.2}},\"type\":\"barpolar\"}],\"pie\":[{\"automargin\":true,\"type\":\"pie\"}]},\"layout\":{\"autotypenumbers\":\"strict\",\"colorway\":[\"#636efa\",\"#EF553B\",\"#00cc96\",\"#ab63fa\",\"#FFA15A\",\"#19d3f3\",\"#FF6692\",\"#B6E880\",\"#FF97FF\",\"#FECB52\"],\"font\":{\"color\":\"#2a3f5f\"},\"hovermode\":\"closest\",\"hoverlabel\":{\"align\":\"left\"},\"paper_bgcolor\":\"white\",\"plot_bgcolor\":\"#E5ECF6\",\"polar\":{\"bgcolor\":\"#E5ECF6\",\"angularaxis\":{\"gridcolor\":\"white\",\"linecolor\":\"white\",\"ticks\":\"\"},\"radialaxis\":{\"gridcolor\":\"white\",\"linecolor\":\"white\",\"ticks\":\"\"}},\"ternary\":{\"bgcolor\":\"#E5ECF6\",\"aaxis\":{\"gridcolor\":\"white\",\"linecolor\":\"white\",\"ticks\":\"\"},\"baxis\":{\"gridcolor\":\"white\",\"linecolor\":\"white\",\"ticks\":\"\"},\"caxis\":{\"gridcolor\":\"white\",\"linecolor\":\"white\",\"ticks\":\"\"}},\"coloraxis\":{\"colorbar\":{\"outlinewidth\":0,\"ticks\":\"\"}},\"colorscale\":{\"sequential\":[[0.0,\"#0d0887\"],[0.1111111111111111,\"#46039f\"],[0.2222222222222222,\"#7201a8\"],[0.3333333333333333,\"#9c179e\"],[0.4444444444444444,\"#bd3786\"],[0.5555555555555556,\"#d8576b\"],[0.6666666666666666,\"#ed7953\"],[0.7777777777777778,\"#fb9f3a\"],[0.8888888888888888,\"#fdca26\"],[1.0,\"#f0f921\"]],\"sequentialminus\":[[0.0,\"#0d0887\"],[0.1111111111111111,\"#46039f\"],[0.2222222222222222,\"#7201a8\"],[0.3333333333333333,\"#9c179e\"],[0.4444444444444444,\"#bd3786\"],[0.5555555555555556,\"#d8576b\"],[0.6666666666666666,\"#ed7953\"],[0.7777777777777778,\"#fb9f3a\"],[0.8888888888888888,\"#fdca26\"],[1.0,\"#f0f921\"]],\"diverging\":[[0,\"#8e0152\"],[0.1,\"#c51b7d\"],[0.2,\"#de77ae\"],[0.3,\"#f1b6da\"],[0.4,\"#fde0ef\"],[0.5,\"#f7f7f7\"],[0.6,\"#e6f5d0\"],[0.7,\"#b8e186\"],[0.8,\"#7fbc41\"],[0.9,\"#4d9221\"],[1,\"#276419\"]]},\"xaxis\":{\"gridcolor\":\"white\",\"linecolor\":\"white\",\"ticks\":\"\",\"title\":{\"standoff\":15},\"zerolinecolor\":\"white\",\"automargin\":true,\"zerolinewidth\":2},\"yaxis\":{\"gridcolor\":\"white\",\"linecolor\":\"white\",\"ticks\":\"\",\"title\":{\"standoff\":15},\"zerolinecolor\":\"white\",\"automargin\":true,\"zerolinewidth\":2},\"scene\":{\"xaxis\":{\"backgroundcolor\":\"#E5ECF6\",\"gridcolor\":\"white\",\"linecolor\":\"white\",\"showbackground\":true,\"ticks\":\"\",\"zerolinecolor\":\"white\",\"gridwidth\":2},\"yaxis\":{\"backgroundcolor\":\"#E5ECF6\",\"gridcolor\":\"white\",\"linecolor\":\"white\",\"showbackground\":true,\"ticks\":\"\",\"zerolinecolor\":\"white\",\"gridwidth\":2},\"zaxis\":{\"backgroundcolor\":\"#E5ECF6\",\"gridcolor\":\"white\",\"linecolor\":\"white\",\"showbackground\":true,\"ticks\":\"\",\"zerolinecolor\":\"white\",\"gridwidth\":2}},\"shapedefaults\":{\"line\":{\"color\":\"#2a3f5f\"}},\"annotationdefaults\":{\"arrowcolor\":\"#2a3f5f\",\"arrowhead\":0,\"arrowwidth\":1},\"geo\":{\"bgcolor\":\"white\",\"landcolor\":\"#E5ECF6\",\"subunitcolor\":\"white\",\"showland\":true,\"showlakes\":true,\"lakecolor\":\"white\"},\"title\":{\"x\":0.05},\"mapbox\":{\"style\":\"light\"}}},\"xaxis\":{\"anchor\":\"y\",\"domain\":[0.0,1.0],\"title\":{\"text\":\"Annual Volatility\"}},\"yaxis\":{\"anchor\":\"x\",\"domain\":[0.0,1.0],\"title\":{\"text\":\"PE Ratio (TTM)\"}},\"legend\":{\"tracegroupgap\":0},\"title\":{\"text\":\"C\\u002fZ a Zmienno\\u015b\\u0107 WIG20\"}},                        {\"responsive\": true}                    ).then(function(){\n",
       "                            \n",
       "var gd = document.getElementById('10a29c74-9c0b-4082-aab1-527a0186f2a9');\n",
       "var x = new MutationObserver(function (mutations, observer) {{\n",
       "        var display = window.getComputedStyle(gd).display;\n",
       "        if (!display || display === 'none') {{\n",
       "            console.log([gd, 'removed!']);\n",
       "            Plotly.purge(gd);\n",
       "            observer.disconnect();\n",
       "        }}\n",
       "}});\n",
       "\n",
       "// Listen for the removal of the full notebook cells\n",
       "var notebookContainer = gd.closest('#notebook-container');\n",
       "if (notebookContainer) {{\n",
       "    x.observe(notebookContainer, {childList: true});\n",
       "}}\n",
       "\n",
       "// Listen for the clearing of the current output cell\n",
       "var outputEl = gd.closest('.output');\n",
       "if (outputEl) {{\n",
       "    x.observe(outputEl, {childList: true});\n",
       "}}\n",
       "\n",
       "                        })                };                });            </script>        </div>"
      ]
     },
     "metadata": {},
     "output_type": "display_data"
    }
   ],
   "source": [
    "# Wykres zależności PE ~ Zmienność\n",
    "fig = px.scatter(df, x='Annual Volatility', y='PE Ratio (TTM)', text=df.index, title='C/Z a Zmienność WIG20')\n",
    "fig.update_traces(textposition='top center')\n",
    "fig.show()"
   ]
  },
  {
   "cell_type": "code",
   "execution_count": null,
   "id": "c53054ef-6105-4c9c-bcdf-9e684c9dd9ad",
   "metadata": {},
   "outputs": [],
   "source": []
  },
  {
   "cell_type": "code",
   "execution_count": null,
   "id": "27bf5c08-42b4-4f92-bd84-8426d0700a20",
   "metadata": {},
   "outputs": [],
   "source": []
  }
 ],
 "metadata": {
  "kernelspec": {
   "display_name": "Python [conda env:base] *",
   "language": "python",
   "name": "conda-base-py"
  },
  "language_info": {
   "codemirror_mode": {
    "name": "ipython",
    "version": 3
   },
   "file_extension": ".py",
   "mimetype": "text/x-python",
   "name": "python",
   "nbconvert_exporter": "python",
   "pygments_lexer": "ipython3",
   "version": "3.12.7"
  }
 },
 "nbformat": 4,
 "nbformat_minor": 5
}
