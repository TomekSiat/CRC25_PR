{
 "cells": [
  {
   "cell_type": "code",
   "execution_count": 2,
   "metadata": {},
   "outputs": [],
   "source": [
    "#biblioteki  <>\n",
    "import numpy as np\n",
    "import pandas as pd \n",
    "import yfinance as yf\n",
    "import re\n",
    "import time\n"
   ]
  },
  {
   "cell_type": "code",
   "execution_count": null,
   "metadata": {},
   "outputs": [],
   "source": [
    "#Kreacja pliku\n",
    "def kreacja_pliku():\n",
    "    Nazwa_wig20 = (pd.read_html(\"https://www.biznesradar.pl/gielda/indeks:WIG20\")[0][\"Profil\"]).to_list() \n",
    "    Nazwa_mwig40 = (pd.read_html(\"https://www.biznesradar.pl/gielda/indeks:mWIG40\")[0][\"Profil\"]).to_list()\n",
    "    Nazwa_swig80 = (pd.read_html(\"https://www.biznesradar.pl/gielda/indeks:sWIG80\")[0][\"Profil\"]).to_list()\n",
    "    lista_nazw = Nazwa_wig20 + Nazwa_mwig40 + Nazwa_swig80\n",
    "    lista_nazw.sort()\n",
    "    with open(\"nazwy.txt\", \"w\", encoding=\"utf-8\") as plik:\n",
    "        plik.write(\"\\n\".join(lista_nazw) + \"\\n\")\n",
    "    print(\"Plik 'nazwy.txt' został utworzony.\")\n",
    "#Oczyszczanie 1  \n",
    "def oczyszczanie_1():\n",
    "    rzis.iloc[:,1:] = rzis.iloc[:,1:].replace(\" \", \"\", regex=True) \n",
    "    bilans.iloc[:,1:] = bilans.iloc[:,1:].replace(\" \", \"\", regex=True)\n",
    "    cashflow.iloc[:,1:] = cashflow.iloc[:,1:].replace(\" \", \"\", regex=True)\n",
    "#Oczyszczanie 2\n",
    "def oczyszczanie_2():\n",
    "    rzis.columns = pd.to_datetime([col.split()[0] + \"-12-31\" if \"Q\" not in col else col.split(\"/\")[0] + \"-09-30\" for col in rzis.columns], errors=\"coerce\")\n",
    "    bilans.columns = pd.to_datetime([col.split()[0] + \"-12-31\" if \"Q\" not in col else col.split(\"/\")[0] + \"-09-30\" for col in bilans.columns], errors=\"coerce\")\n",
    "    cashflow.columns = pd.to_datetime([col.split()[0] + \"-12-31\" if \"Q\" not in col else col.split(\"/\")[0] + \"-09-30\" for col in cashflow.columns], errors=\"coerce\")\n",
    "#Oczyszczanie 3\n",
    "def oczyszczanie_3():\n",
    "    rzis.iloc[:, 1:] = rzis.iloc[:, 1:].apply(pd.to_numeric, errors='coerce')\n",
    "    bilans.iloc[:, 1:] = bilans.iloc[:, 1:].apply(pd.to_numeric, errors='coerce')\n",
    "    cashflow.iloc[:, 1:] = cashflow.iloc[:, 1:].apply(pd.to_numeric, errors='coerce')\n",
    "\n",
    "#---->> Początek programu <<----\n",
    "#1. Kreacja pliku\n",
    "#!! jęsli chcesz pobrać nazwy spółek z indeksów WIG20, mWIG40 i sWIG80, odkomentuj poniższą linię !!\n",
    "#kreacja_pliku()\n",
    "\n",
    "#2. Wczytanie nazw spółek z pliku \"nazwy.txt\"\n",
    "#!! jeśli chcesz pobrać dane dla innych spółek, dodaj je do pliku \"nazwy.txt\" ręznie edytując plik !!\n",
    "# Wczytanie nazw spółek z pliku \"nazwy.txt\"\n",
    "with open(\"nazwy.txt\", \"r\", encoding=\"utf-8\") as plik:\n",
    "    lista_spolek = [linia.strip() for linia in plik.readlines()]  # Usuwamy zbędne białe znaki\n",
    "\n",
    "\n",
    "#3. Pobieranie i zapisywanie danych dla każdej spółki\n",
    "for spolka in lista_spolek:\n",
    "    match = re.search(r'\\((.*?)\\)', spolka)  # Pobieranie nazwy spółki\n",
    "    if match:\n",
    "        nazwa_spolki = match.group(1)  # Nazwa spółki\n",
    "    else:\n",
    "        nazwa_spolki = spolka[:3]  # Jeśli brak nazwy, używamy tickera\n",
    "    \n",
    "    ticker = spolka[:3]  # Ticker to pierwsze 3 znaki\n",
    "    \n",
    "    try:\n",
    "        #3.1 Pobieranie danych z BiznesRadar\n",
    "        time.sleep(1)\n",
    "        rzis = pd.read_html(f\"https://www.biznesradar.pl/raporty-finansowe-rachunek-zyskow-i-strat/{ticker}\")[1][1:].applymap(lambda x: str(x)[:str(x).find(\"r/r\")] if \"r/r\" in str(x) else x).applymap(lambda x: str(x).split(\"k/k\")[0] if \"k/k\" in str(x) else str(x))\n",
    "        time.sleep(1) # Oczekiwanie 60 sekund przed pobraniem kolejnych danych\n",
    "        bilans = pd.read_html(f\"https://www.biznesradar.pl/raporty-finansowe-bilans/{ticker}\")[2][1:].applymap(lambda x: str(x)[:str(x).find(\"r/r\")] if \"r/r\" in str(x) else x).applymap(lambda x: str(x).split(\"k/k\")[0] if \"k/k\" in str(x) else str(x))\n",
    "        time.sleep(1) # Oczekiwanie 30 sekund przed pobraniem kolejnych danych\n",
    "        cashflow = pd.read_html(f\"https://www.biznesradar.pl/raporty-finansowe-przeplywy-pieniezne/{ticker}\")[0][1:].applymap(lambda x: str(x)[:str(x).find(\"r/r\")] if \"r/r\" in str(x) else x).applymap(lambda x: str(x).split(\"k/k\")[0] if \"k/k\" in str(x) else str(x)) \n",
    "        time.sleep(1)\n",
    "\n",
    "        #3.2 Oczyszczanie danych\n",
    "        #Oczyszcznie skałada się z 3 etapów jęsli chcesz któryś z nich pominąć zakomentuj go\n",
    "        #oczyszczanie_1()\n",
    "        #oczyszczanie_2()\n",
    "        #oczyszczanie_3()\n",
    "      \n",
    "\n",
    "        #3.3 Zapis do pliku Excel\n",
    "        nazwa_pliku = f\"{nazwa_spolki}.xlsx\"\n",
    "        with pd.ExcelWriter(nazwa_pliku, engine=\"xlsxwriter\") as writer:\n",
    "            rzis.to_excel(writer, sheet_name=\"RZiS\", index=False)\n",
    "            bilans.to_excel(writer, sheet_name=\"Bilans\", index=False)\n",
    "            cashflow.to_excel(writer, sheet_name=\"Cashflow\", index=False)\n",
    "\n",
    "        print(f\"Zapisano plik: {nazwa_pliku}\")\n",
    "        time.sleep(12)\n",
    "\n",
    "    except Exception as e:\n",
    "        print(f\"Błąd dla spółki {nazwa_spolki} ({ticker}): {e}\")\n",
    "#---->> Koniec programu <<----  \n",
    "print(\"Wszystkie pliki zostały zapisane.\")"
   ]
  },
  {
   "cell_type": "code",
   "execution_count": 1,
   "metadata": {},
   "outputs": [
    {
     "name": "stdout",
     "output_type": "stream",
     "text": [
      "YF.download() has changed argument auto_adjust default to True\n"
     ]
    },
    {
     "name": "stderr",
     "output_type": "stream",
     "text": [
      "[*********************100%***********************]  140 of 140 completed\n"
     ]
    },
    {
     "name": "stdout",
     "output_type": "stream",
     "text": [
      "Plik zapisano w: C:\\Users\\pjgf2\\Desktop\\Pythone\\Index Investment Chellenge 2025\\Dane zmienne\\dane_gieldowe.xlsx\n"
     ]
    }
   ],
   "source": [
    "#Analiza Techniczna danych handlowych\n",
    "\n",
    "# 1. Biblioteki\n",
    "import numpy as np\n",
    "import pandas as pd\n",
    "import yfinance as yf\n",
    "import os\n",
    "from datetime import date\n",
    "\n",
    "# 2. Pobieranie Tickerów\n",
    "def pobierz_tickery(indeks):\n",
    "    url = f\"https://www.biznesradar.pl/gielda/indeks:{indeks}\"\n",
    "    return (pd.read_html(url)[0][\"Profil\"].str[:3] + \".WA\").to_list()\n",
    "\n",
    "tickery = pobierz_tickery(\"WIG20\") + pobierz_tickery(\"mWIG40\") + pobierz_tickery(\"sWIG80\")\n",
    "\n",
    "# 3. Pozyskiwanie daty\n",
    "dziś = date.today()\n",
    "\n",
    "# 4. Ustawienie folderu docelowego\n",
    "folder = r\"C:\\Users\\pjgf2\\Desktop\\Pythone\\Index Investment Chellenge 2025\\Dane zmienne\"  # <- Zmień na swój folder\n",
    "\n",
    "\n",
    "# Tworzenie folderu, jeśli nie istnieje\n",
    "os.makedirs(folder, exist_ok=True)\n",
    "\n",
    "# 5. Pobieranie danych tylko raz\n",
    "dane = yf.download(tickery, start=\"2024-01-01\", end=dziś)\n",
    "\n",
    "# 6. Zapis do Excela\n",
    "plik_excel = os.path.join(folder, \"dane_gieldowe.xlsx\")\n",
    "\n",
    "with pd.ExcelWriter(plik_excel, engine=\"xlsxwriter\") as writer:\n",
    "    for typ in [\"Volume\", \"Open\", \"Close\", \"High\", \"Low\"]:\n",
    "        dane[typ].to_excel(writer, sheet_name=typ)\n",
    "\n",
    "print(f\"Plik zapisano w: {plik_excel}\")\n",
    "\n"
   ]
  }
 ],
 "metadata": {
  "kernelspec": {
   "display_name": "Python 3",
   "language": "python",
   "name": "python3"
  },
  "language_info": {
   "codemirror_mode": {
    "name": "ipython",
    "version": 3
   },
   "file_extension": ".py",
   "mimetype": "text/x-python",
   "name": "python",
   "nbconvert_exporter": "python",
   "pygments_lexer": "ipython3",
   "version": "3.13.2"
  }
 },
 "nbformat": 4,
 "nbformat_minor": 2
}
