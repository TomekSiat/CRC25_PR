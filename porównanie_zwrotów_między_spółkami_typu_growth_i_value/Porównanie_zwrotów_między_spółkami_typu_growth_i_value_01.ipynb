{
 "cells": [
  {
   "cell_type": "code",
   "execution_count": 9,
   "id": "5d88abb1",
   "metadata": {},
   "outputs": [],
   "source": [
    "import numpy as np\n",
    "import yfinance as yf \n",
    "import pandas as pd"
   ]
  },
  {
   "cell_type": "code",
   "execution_count": null,
   "id": "d9757231",
   "metadata": {},
   "outputs": [],
   "source": [
    "tick = ['RPG',  # S&P 500 Pure Growth\n",
    "        'RPV',  # S&P 500 Pure Value\n",
    "        '^RUO',  # Russell 2000 Growth\n",
    "        '^RUJ',  # Russell 2000 Value\n",
    "        '^105867-USD-STRD',  # MSCI World Growth\n",
    "        '^105868-USD-STRD']  # MSCI World Value \n",
    "\n",
    "\n",
    "\n",
    "dane = yf.download(tick, start='2024-03-31', end='2025-03-31') # pobieranie danych dla ww. tickerów\n",
    "\n",
    "dane = dane[['Close']] # wybieranie tylko kolumny Close\n",
    "dane = dane.interpolate(method='linear', axis = 0) # interpolacja liniowa dla brakujących danych\n",
    "\n",
    "zwroty = dane.pct_change() # obliczanie dziennych stóp zwrotu\n",
    "zwroty = zwroty.dropna() # usuwanie pierwszego wiersza z NaN\n",
    "\n",
    "odch_std = zwroty.std() # obliczanie odchylenia standardowego dziennych stóp zwrotu\n",
    "\n",
    "roczne_std = odch_std * (252 ** 0.5) # przeliczenie na roczne odchylenie standardowe\n",
    "\n",
    "print(roczne_std) # wynik"
   ]
  }
 ],
 "metadata": {
  "kernelspec": {
   "display_name": "Python 3",
   "language": "python",
   "name": "python3"
  },
  "language_info": {
   "codemirror_mode": {
    "name": "ipython",
    "version": 3
   },
   "file_extension": ".py",
   "mimetype": "text/x-python",
   "name": "python",
   "nbconvert_exporter": "python",
   "pygments_lexer": "ipython3",
   "version": "3.13.1"
  }
 },
 "nbformat": 4,
 "nbformat_minor": 5
}
